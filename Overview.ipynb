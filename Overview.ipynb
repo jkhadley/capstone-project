{
 "cells": [
  {
   "cell_type": "markdown",
   "metadata": {},
   "source": [
    "## Introduction"
   ]
  },
  {
   "cell_type": "code",
   "execution_count": null,
   "metadata": {},
   "outputs": [],
   "source": []
  },
  {
   "cell_type": "markdown",
   "metadata": {},
   "source": [
    "## Segmentation"
   ]
  },
  {
   "cell_type": "markdown",
   "metadata": {},
   "source": [
    "<div style=\"text-align: justify\">\n",
    "For The Image segmentation, the first architecture that was used was [U-net](https://arxiv.org/abs/1505.04597). Since segmentation is done without fully connected layers, images of multiple sizes can be fed to the network as long as the network was trained on larger images. Because the networks have flexible inputs, I started training the networks with images of size 2048 x 1152 since they were the most popular size in my data set. Training the network on images of this size was problematic because the number of parameters created due to using images of this size was very large and in order to fit the model and one image to train on in to RAM, the depth of the convolutional layers used was significantly less than the paper linked above used. Due to the shallowness of the convolutional layers, the model was not able to learn that well and only resulted in accuracies of about 88%. In order to get the batch size up and number of parameters in the model down, the training images where then cropped to sizes of 256 x 256 and the model was built around that input and output sizes. Some outputs of the smaller network can be seen below.\n",
    "</div>"
   ]
  },
  {
   "cell_type": "markdown",
   "metadata": {},
   "source": [
    "<div style=\"text-align: justify\">\n",
    "As can be seen in the test output shown above, the model predicts all of the vegetation as well as the shadows near the corn plants as being corn. \n",
    "</div>"
   ]
  },
  {
   "cell_type": "markdown",
   "metadata": {},
   "source": [
    "## Classification"
   ]
  },
  {
   "cell_type": "markdown",
   "metadata": {},
   "source": [
    "<div style=\"text-align: justify\">\n",
    "This data set consisted of uniformly sized images that were split into 4 categories of healthy or having 1 of 3 diseases. The goal with this data set was to build a classifier that would classify the images as being a healthy or having a disease. This problem was solved using a Convolutional Neural Network.\n",
    "</div>"
   ]
  },
  {
   "cell_type": "markdown",
   "metadata": {},
   "source": [
    "### Binary Classification"
   ]
  },
  {
   "cell_type": "markdown",
   "metadata": {},
   "source": [
    "<div style=\"text-align: justify\">\n",
    "For the binary classification, we want to predict whether or not the leafs are healthy. Since we have a lot of data for the plants with various diseases, this makes it so that there is more data for the diseased plants than the healthy plants. To avoid problems from the data being imbalanced, the diseased leafs will be undersampled so that the data was equal for the appropriate classification.\n",
    "</div>"
   ]
  },
  {
   "cell_type": "markdown",
   "metadata": {},
   "source": [
    "### Multiclass Classification"
   ]
  },
  {
   "cell_type": "code",
   "execution_count": null,
   "metadata": {},
   "outputs": [],
   "source": []
  }
 ],
 "metadata": {
  "kernelspec": {
   "display_name": "Python 3",
   "language": "python",
   "name": "python3"
  },
  "language_info": {
   "codemirror_mode": {
    "name": "ipython",
    "version": 3
   },
   "file_extension": ".py",
   "mimetype": "text/x-python",
   "name": "python",
   "nbconvert_exporter": "python",
   "pygments_lexer": "ipython3",
   "version": "3.6.5"
  }
 },
 "nbformat": 4,
 "nbformat_minor": 2
}
