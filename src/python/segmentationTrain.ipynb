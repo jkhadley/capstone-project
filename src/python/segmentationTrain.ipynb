{
 "cells": [
  {
   "cell_type": "markdown",
   "metadata": {},
   "source": [
    "### Import Libraries"
   ]
  },
  {
   "cell_type": "code",
   "execution_count": 1,
   "metadata": {},
   "outputs": [
    {
     "name": "stderr",
     "output_type": "stream",
     "text": [
      "/home/ubuntu/anaconda3/lib/python3.6/site-packages/h5py/__init__.py:36: FutureWarning: Conversion of the second argument of issubdtype from `float` to `np.floating` is deprecated. In future, it will be treated as `np.float64 == np.dtype(float).type`.\n",
      "  from ._conv import register_converters as _register_converters\n",
      "Using TensorFlow backend.\n"
     ]
    }
   ],
   "source": [
    "from modelTrainer import ModelTrainer\n",
    "from metrics import recall, precision, f1Score"
   ]
  },
  {
   "cell_type": "markdown",
   "metadata": {},
   "source": [
    "### Common Variables"
   ]
  },
  {
   "cell_type": "code",
   "execution_count": 2,
   "metadata": {},
   "outputs": [],
   "source": [
    "# path to data on aws\n",
    "data_path = \"/home/ubuntu/project/data/groundcover2016/\"\n",
    "model_path = \"/home/ubuntu/project/model_checkpoints/unet/\"\n",
    "results_path = \"/home/ubuntu/project/results/\"\n",
    "modelTrainer = ModelTrainer(data_path,results_path,model_path)\n",
    "modelTrainer.changeMetrics(['acc',recall,precision,f1Score])\n",
    "\n",
    "classMap = {\n",
    "    'maize' : 1,\n",
    "    'maizevariety': 1,\n",
    "    'wheat': 2,\n",
    "    'mungbean': 3\n",
    "}"
   ]
  },
  {
   "cell_type": "markdown",
   "metadata": {},
   "source": [
    "## Single Class Model (Initial Depth = 64)"
   ]
  },
  {
   "cell_type": "code",
   "execution_count": null,
   "metadata": {},
   "outputs": [
    {
     "name": "stdout",
     "output_type": "stream",
     "text": [
      "----------Model Parameters----------\n",
      "Initial Conv. Depth : 64\n",
      "Number of Classes   : 2\n",
      "Dropout             : 0.6\n",
      "Activation Function : Relu\n",
      "Input Shape         : (256, 256, 3)\n",
      "Batch Size          : 18\n",
      "--------Optimizer Parameters--------\n",
      "Learning Rate : <tf.Variable 'SGD/lr:0' shape=() dtype=float32_ref>\n",
      "Momentum      : <tf.Variable 'SGD/momentum:0' shape=() dtype=float32_ref>\n",
      "Initial Decay : 1e-08\n",
      "Epoch 1/2\n",
      "   5/3955 [..............................] - ETA: 3:53:56 - loss: 1.0040 - acc: 0.2279 - recall: 0.2279 - precision: 0.2279 - f1Score: 0.2279"
     ]
    }
   ],
   "source": [
    "modelTrainer.changeEpochs(2)\n",
    "modelTrainer.changeBatchSize(18)\n",
    "modelTrainer.changeConvolutionalDepth(64)\n",
    "modelTrainer.setWeightInitializer('he_normal')\n",
    "modelTrainer.setOptimizerParams(lr = 1.0*(10**-4),momentum = 0.8,decay = 1.0*(10**-8))\n",
    "modelTrainer.changeDropout(0.6)\n",
    "modelTrainer.setClassName(\"maize\")\n",
    "modelTrainer.setSaveName(\"maize64\")\n",
    "modelTrainer.train()"
   ]
  },
  {
   "cell_type": "markdown",
   "metadata": {},
   "source": [
    "## Single Class Model (Initial Depth = 32)"
   ]
  },
  {
   "cell_type": "code",
   "execution_count": 4,
   "metadata": {
    "scrolled": true
   },
   "outputs": [
    {
     "name": "stdout",
     "output_type": "stream",
     "text": [
      "----------Model Parameters----------\n",
      "Initial Conv. Depth : 32\n",
      "Number of Classes   : 2\n",
      "Dropout             : 0.6\n",
      "Activation Function : Relu\n",
      "Input Shape         : (256, 256, 3)\n",
      "Batch Size          : 32\n",
      "--------Optimizer Parameters--------\n",
      "Learning Rate : <tf.Variable 'SGD/lr:0' shape=() dtype=float32_ref>\n",
      "Momentum      : <tf.Variable 'SGD/momentum:0' shape=() dtype=float32_ref>\n",
      "Initial Decay : 1e-08\n",
      "Epoch 1/2\n",
      " 989/2225 [============>.................] - ETA: 27:52 - loss: 0.1707 - acc: 0.9269 - recall: 0.9269 - precision: 0.9269 - f1Score: 0.92691000\n",
      "1989/2225 [=========================>....] - ETA: 5:18 - loss: 0.1531 - acc: 0.9337 - recall: 0.9337 - precision: 0.9337 - f1Score: 0.93372000\n",
      "2225/2225 [==============================] - 3167s 1s/step - loss: 0.1524 - acc: 0.9337 - recall: 0.9337 - precision: 0.9337 - f1Score: 0.9337 - val_loss: 0.1360 - val_acc: 0.9399 - val_recall: 0.9399 - val_precision: 0.9399 - val_f1Score: 0.9399\n",
      "\n",
      "Epoch 00001: saving model to /home/ubuntu/project/model_checkpoints/unet//maize32.hdf5\n",
      "Epoch 2/2\n",
      " 764/2225 [=========>....................] - ETA: 32:42 - loss: 0.1347 - acc: 0.9417 - recall: 0.9417 - precision: 0.9417 - f1Score: 0.94173000\n",
      "1764/2225 [======================>.......] - ETA: 10:19 - loss: 0.1378 - acc: 0.9392 - recall: 0.9392 - precision: 0.9392 - f1Score: 0.93924000\n",
      "2225/2225 [==============================] - 3160s 1s/step - loss: 0.1395 - acc: 0.9384 - recall: 0.9384 - precision: 0.9384 - f1Score: 0.9384 - val_loss: 0.1318 - val_acc: 0.9413 - val_recall: 0.9413 - val_precision: 0.9413 - val_f1Score: 0.9413\n",
      "\n",
      "Epoch 00002: saving model to /home/ubuntu/project/model_checkpoints/unet//maize32.hdf5\n"
     ]
    }
   ],
   "source": [
    "modelTrainer.changeEpochs(2)\n",
    "modelTrainer.changeBatchSize(32)\n",
    "modelTrainer.changeConvolutionalDepth(32)\n",
    "modelTrainer.setWeightInitializer('he_normal')\n",
    "modelTrainer.setOptimizerParams(lr = 1.0*(10**-3),momentum = 0.8,decay = 1.0*(10**-8))\n",
    "modelTrainer.changeDropout(0.6)\n",
    "modelTrainer.setClassName(\"maize\")\n",
    "modelTrainer.setSaveName(\"maize32\")\n",
    "modelTrainer.train()"
   ]
  },
  {
   "cell_type": "markdown",
   "metadata": {},
   "source": [
    "## Single Class Model (Initial Depth = 16)"
   ]
  },
  {
   "cell_type": "code",
   "execution_count": 6,
   "metadata": {
    "scrolled": true
   },
   "outputs": [
    {
     "name": "stdout",
     "output_type": "stream",
     "text": [
      "----------Model Parameters----------\n",
      "Initial Conv. Depth : 16\n",
      "Number of Classes   : 2\n",
      "Dropout             : 0.6\n",
      "Activation Function : Relu\n",
      "Input Shape         : (256, 256, 3)\n",
      "Batch Size          : 64\n",
      "--------Optimizer Parameters--------\n",
      "Learning Rate : <tf.Variable 'SGD_2/lr:0' shape=() dtype=float32_ref>\n",
      "Momentum      : <tf.Variable 'SGD_2/momentum:0' shape=() dtype=float32_ref>\n",
      "Initial Decay : 1e-06\n",
      "Epoch 1/2\n",
      " 989/1112 [=========================>....] - ETA: 3:12 - loss: 0.1626 - acc: 0.9289 - recall: 0.9289 - precision: 0.9289 - f1Score: 0.92891000\n",
      "1112/1112 [==============================] - 1864s 2s/step - loss: 0.1601 - acc: 0.9299 - recall: 0.9299 - precision: 0.9299 - f1Score: 0.9299 - val_loss: 0.1329 - val_acc: 0.9413 - val_recall: 0.9413 - val_precision: 0.9413 - val_f1Score: 0.9413\n",
      "\n",
      "Epoch 00001: saving model to /home/ubuntu/project/model_checkpoints/unet//maize16.hdf5\n",
      "Epoch 2/2\n",
      " 877/1112 [======================>.......] - ETA: 6:06 - loss: 0.1397 - acc: 0.9388 - recall: 0.9388 - precision: 0.9388 - f1Score: 0.93882000\n",
      "1112/1112 [==============================] - 1859s 2s/step - loss: 0.1386 - acc: 0.9388 - recall: 0.9388 - precision: 0.9388 - f1Score: 0.9388 - val_loss: 0.1318 - val_acc: 0.9412 - val_recall: 0.9412 - val_precision: 0.9412 - val_f1Score: 0.9412\n",
      "\n",
      "Epoch 00002: saving model to /home/ubuntu/project/model_checkpoints/unet//maize16.hdf5\n"
     ]
    }
   ],
   "source": [
    "modelTrainer.changeBatchLogInterval(5)\n",
    "modelTrainer.changeEpochs(2)\n",
    "modelTrainer.changeDropout(0.6)\n",
    "modelTrainer.setWeightInitializer('he_normal')\n",
    "modelTrainer.changeConvolutionalDepth(16)\n",
    "modelTrainer.changeBatchSize(64)\n",
    "modelTrainer.setClassName(\"maize\")\n",
    "modelTrainer.setOptimizerParams(lr = 1.0*(10**-3),momentum = 0.9,decay = 1.0*(10**-6))\n",
    "modelTrainer.setSaveName(\"maize16\")\n",
    "modelTrainer.train()"
   ]
  },
  {
   "cell_type": "markdown",
   "metadata": {},
   "source": [
    "## Single Class Model (Initial Depth = 8)"
   ]
  },
  {
   "cell_type": "code",
   "execution_count": 3,
   "metadata": {},
   "outputs": [
    {
     "name": "stdout",
     "output_type": "stream",
     "text": [
      "----------Model Parameters----------\n",
      "Initial Conv. Depth : 8\n",
      "Number of Classes   : 2\n",
      "Dropout             : 0.6\n",
      "Activation Function : Relu\n",
      "Input Shape         : (256, 256, 3)\n",
      "Batch Size          : 128\n",
      "--------Optimizer Parameters--------\n",
      "Learning Rate : <tf.Variable 'SGD/lr:0' shape=() dtype=float32_ref>\n",
      "Momentum      : <tf.Variable 'SGD/momentum:0' shape=() dtype=float32_ref>\n",
      "Initial Decay : 1e-06\n",
      "Epoch 1/2\n",
      "556/556 [==============================] - 1360s 2s/step - loss: 0.1931 - acc: 0.9183 - recall: 0.9183 - precision: 0.9185 - f1Score: 0.9184 - val_loss: 0.1730 - val_acc: 0.9224 - val_recall: 0.9224 - val_precision: 0.9224 - val_f1Score: 0.9224\n",
      "\n",
      "Epoch 00001: saving model to /home/ubuntu/project/model_checkpoints/unet//maize8.hdf5\n",
      "Epoch 2/2\n",
      "433/556 [======================>.......] - ETA: 4:29 - loss: 0.1453 - acc: 0.9371 - recall: 0.9371 - precision: 0.9371 - f1Score: 0.93711000\n",
      "556/556 [==============================] - 1331s 2s/step - loss: 0.1444 - acc: 0.9374 - recall: 0.9374 - precision: 0.9374 - f1Score: 0.9374 - val_loss: 0.1338 - val_acc: 0.9414 - val_recall: 0.9414 - val_precision: 0.9414 - val_f1Score: 0.9414\n",
      "\n",
      "Epoch 00002: saving model to /home/ubuntu/project/model_checkpoints/unet//maize8.hdf5\n"
     ]
    }
   ],
   "source": [
    "modelTrainer.changeBatchLogInterval(5)\n",
    "modelTrainer.changeEpochs(2)\n",
    "modelTrainer.changeDropout(0.6)\n",
    "modelTrainer.setWeightInitializer('he_normal')\n",
    "modelTrainer.changeConvolutionalDepth(8)\n",
    "modelTrainer.changeBatchSize(128)\n",
    "modelTrainer.setClassName(\"maize\")\n",
    "modelTrainer.setOptimizerParams(lr = 1.0*(10**-3),momentum = 0.9,decay = 1.0*(10**-6))\n",
    "modelTrainer.setSaveName(\"maize8\")\n",
    "modelTrainer.train()"
   ]
  },
  {
   "cell_type": "markdown",
   "metadata": {},
   "source": [
    "## Single Class Model (Initial Depth = 4)"
   ]
  },
  {
   "cell_type": "code",
   "execution_count": 7,
   "metadata": {
    "scrolled": true
   },
   "outputs": [
    {
     "name": "stdout",
     "output_type": "stream",
     "text": [
      "----------Model Parameters----------\n",
      "Initial Conv. Depth : 4\n",
      "Number of Classes   : 2\n",
      "Dropout             : 0.6\n",
      "Activation Function : Relu\n",
      "Input Shape         : [256, 256, 3]\n",
      "Batch Size          : 256\n",
      "--------Optimizer Parameters--------\n",
      "Learning Rate : <tf.Variable 'SGD_5/lr:0' shape=() dtype=float32_ref>\n",
      "Momentum      : <tf.Variable 'SGD_5/momentum:0' shape=() dtype=float32_ref>\n",
      "Initial Decay : 1e-06\n",
      "Epoch 1/3\n",
      "278/278 [==============================] - 1133s 4s/step - loss: 0.4875 - acc: 0.8185 - recall: 0.8185 - precision: 0.8185 - f1Score: 0.8185 - val_loss: 0.4130 - val_acc: 0.8445 - val_recall: 0.8445 - val_precision: 0.8445 - val_f1Score: 0.8445\n",
      "\n",
      "Epoch 00001: saving model to /home/ubuntu/project/model_checkpoints/unet//maize4.hdf5\n",
      "Epoch 2/3\n",
      "278/278 [==============================] - 1128s 4s/step - loss: 0.4154 - acc: 0.8210 - recall: 0.8210 - precision: 0.8210 - f1Score: 0.8210 - val_loss: 0.3328 - val_acc: 0.8448 - val_recall: 0.8448 - val_precision: 0.8448 - val_f1Score: 0.8448\n",
      "\n",
      "Epoch 00002: saving model to /home/ubuntu/project/model_checkpoints/unet//maize4.hdf5\n",
      "Epoch 3/3\n",
      "278/278 [==============================] - 1129s 4s/step - loss: 0.2917 - acc: 0.8213 - recall: 0.8213 - precision: 0.8213 - f1Score: 0.8213 - val_loss: 0.2210 - val_acc: 0.8447 - val_recall: 0.8447 - val_precision: 0.8447 - val_f1Score: 0.8447\n",
      "\n",
      "Epoch 00003: saving model to /home/ubuntu/project/model_checkpoints/unet//maize4.hdf5\n"
     ]
    }
   ],
   "source": [
    "modelTrainer.changeBatchLogInterval(5)\n",
    "modelTrainer.changeEpochs(3)\n",
    "modelTrainer.changeDropout(0.6)\n",
    "modelTrainer.setWeightInitializer('he_normal')\n",
    "modelTrainer.changeConvolutionalDepth(4)\n",
    "modelTrainer.changeBatchSize(256)\n",
    "modelTrainer.setClassName(\"maize\")\n",
    "modelTrainer.setOptimizerParams(lr = 1.0*(10**-3),momentum = 0.9,decay = 1.0*(10**-6))\n",
    "modelTrainer.setSaveName(\"maize4\")\n",
    "modelTrainer.train()"
   ]
  },
  {
   "cell_type": "markdown",
   "metadata": {},
   "source": [
    "# Train a multi-class model (Initial Depth = 64)"
   ]
  },
  {
   "cell_type": "code",
   "execution_count": null,
   "metadata": {},
   "outputs": [
    {
     "name": "stdout",
     "output_type": "stream",
     "text": [
      "----------Model Parameters----------\n",
      "Initial Conv. Depth : 64\n",
      "Number of Classes   : 4\n",
      "Dropout             : 0.6\n",
      "Activation Function : Relu\n",
      "Input Shape         : (256, 256, 3)\n",
      "Batch Size          : 16\n",
      "--------Optimizer Parameters--------\n",
      "Learning Rate : <tf.Variable 'SGD/lr:0' shape=() dtype=float32_ref>\n",
      "Momentum      : <tf.Variable 'SGD/momentum:0' shape=() dtype=float32_ref>\n",
      "Initial Decay : 1e-10\n",
      "Epoch 1/1\n",
      "  989/20509 [>.............................] - ETA: 8:38:19 - loss: 0.5675 - acc: 0.7767 - recall: 0.6681 - precision: 0.9066 - f1Score: 0.76661000\n",
      " 1989/20509 [=>............................] - ETA: 8:10:13 - loss: 0.5192 - acc: 0.7935 - recall: 0.6894 - precision: 0.9155 - f1Score: 0.78442000\n",
      " 2989/20509 [===>..........................] - ETA: 7:43:13 - loss: 0.5009 - acc: 0.8012 - recall: 0.7029 - precision: 0.9134 - f1Score: 0.79263000\n",
      " 3989/20509 [====>.........................] - ETA: 7:16:33 - loss: 0.4879 - acc: 0.8071 - recall: 0.7155 - precision: 0.9098 - f1Score: 0.79924000\n",
      " 4989/20509 [======>.......................] - ETA: 6:50:00 - loss: 0.4724 - acc: 0.8140 - recall: 0.7296 - precision: 0.9074 - f1Score: 0.80705000\n",
      " 5989/20509 [=======>......................] - ETA: 6:23:30 - loss: 0.4614 - acc: 0.8187 - recall: 0.7389 - precision: 0.9061 - f1Score: 0.81226000\n",
      " 6989/20509 [=========>....................] - ETA: 5:57:03 - loss: 0.4511 - acc: 0.8229 - recall: 0.7464 - precision: 0.9063 - f1Score: 0.81687000\n",
      " 7989/20509 [==========>...................] - ETA: 5:30:37 - loss: 0.4441 - acc: 0.8256 - recall: 0.7516 - precision: 0.9057 - f1Score: 0.81988000\n",
      " 8290/20509 [===========>..................] - ETA: 5:22:39 - loss: 0.4423 - acc: 0.8263 - recall: 0.7530 - precision: 0.9055 - f1Score: 0.8206"
     ]
    }
   ],
   "source": [
    "modelTrainer.changeBatchLogInterval(5)\n",
    "modelTrainer.changeEpochs(1)\n",
    "modelTrainer.changeDropout(0.6)\n",
    "modelTrainer.setWeightInitializer('he_normal')\n",
    "modelTrainer.changeConvolutionalDepth(64)\n",
    "modelTrainer.changeBatchSize(16)\n",
    "modelTrainer.setClassMap(classMap)\n",
    "modelTrainer.setOptimizerParams(lr = 1.0*(10**-4),momentum = 0.9,decay = 1.0*(10**-10))\n",
    "modelTrainer.setSaveName(\"multiclass64\")\n",
    "modelTrainer.train()"
   ]
  },
  {
   "cell_type": "markdown",
   "metadata": {},
   "source": [
    "## Multi-Class model (Initial Depth = 32) "
   ]
  },
  {
   "cell_type": "code",
   "execution_count": 4,
   "metadata": {},
   "outputs": [
    {
     "name": "stdout",
     "output_type": "stream",
     "text": [
      "----------Model Parameters----------\n",
      "Initial Conv. Depth : 32\n",
      "Number of Classes   : 4\n",
      "Dropout             : 0.6\n",
      "Activation Function : Relu\n",
      "Input Shape         : (256, 256, 3)\n",
      "Batch Size          : 36\n",
      "--------Optimizer Parameters--------\n",
      "Learning Rate : <tf.Variable 'SGD/lr:0' shape=() dtype=float32_ref>\n",
      "Momentum      : <tf.Variable 'SGD/momentum:0' shape=() dtype=float32_ref>\n",
      "Initial Decay : 1e-10\n",
      "Epoch 1/5\n",
      " 989/9115 [==>...........................] - ETA: 3:50:11 - loss: 0.5575 - acc: 0.7833 - recall: 0.6878 - precision: 0.9086 - f1Score: 0.78111000\n",
      "1989/9115 [=====>........................] - ETA: 3:21:26 - loss: 0.5158 - acc: 0.7978 - recall: 0.6981 - precision: 0.9196 - f1Score: 0.79242000\n",
      "2989/9115 [========>.....................] - ETA: 2:53:01 - loss: 0.4992 - acc: 0.8039 - recall: 0.7092 - precision: 0.9167 - f1Score: 0.79853000\n",
      "3989/9115 [============>.................] - ETA: 2:24:41 - loss: 0.4833 - acc: 0.8105 - recall: 0.7224 - precision: 0.9140 - f1Score: 0.80584000\n",
      "4989/9115 [===============>..............] - ETA: 1:56:25 - loss: 0.4697 - acc: 0.8158 - recall: 0.7332 - precision: 0.9119 - f1Score: 0.81165000\n",
      "5989/9115 [==================>...........] - ETA: 1:28:11 - loss: 0.4639 - acc: 0.8177 - recall: 0.7382 - precision: 0.9094 - f1Score: 0.81386000\n",
      "6989/9115 [======================>.......] - ETA: 59:58 - loss: 0.4561 - acc: 0.8204 - recall: 0.7437 - precision: 0.9088 - f1Score: 0.8169  7000\n",
      "7989/9115 [=========================>....] - ETA: 31:45 - loss: 0.4493 - acc: 0.8230 - recall: 0.7485 - precision: 0.9081 - f1Score: 0.81968000\n",
      "8989/9115 [============================>.] - ETA: 3:33 - loss: 0.4432 - acc: 0.8255 - recall: 0.7533 - precision: 0.9073 - f1Score: 0.82219000\n",
      "9114/9115 [============================>.] - ETA: 1s - loss: 0.4427 - acc: 0.8257 - recall: 0.7537 - precision: 0.9072 - f1Score: 0.82231000\n",
      "9115/9115 [==============================] - 17138s 2s/step - loss: 0.4427 - acc: 0.8257 - recall: 0.7537 - precision: 0.9072 - f1Score: 0.8223 - val_loss: 0.3977 - val_acc: 0.8428 - val_recall: 0.7899 - val_precision: 0.9001 - val_f1Score: 0.8413\n",
      "\n",
      "Epoch 00001: saving model to /home/ubuntu/project/model_checkpoints/unet//smallMulticlassNetwork.hdf5\n",
      "Epoch 2/5\n",
      " 232/9115 [..............................] - ETA: 4:12:07 - loss: 0.3986 - acc: 0.8435 - recall: 0.7889 - precision: 0.8998 - f1Score: 0.8406"
     ]
    },
    {
     "ename": "KeyboardInterrupt",
     "evalue": "",
     "output_type": "error",
     "traceback": [
      "\u001b[0;31m---------------------------------------------------------------------------\u001b[0m",
      "\u001b[0;31mKeyboardInterrupt\u001b[0m                         Traceback (most recent call last)",
      "\u001b[0;32m<ipython-input-4-a0ed4abd8377>\u001b[0m in \u001b[0;36m<module>\u001b[0;34m()\u001b[0m\n\u001b[0;32m----> 1\u001b[0;31m \u001b[0mmodelTrainer\u001b[0m\u001b[0;34m.\u001b[0m\u001b[0mtrain\u001b[0m\u001b[0;34m(\u001b[0m\u001b[0;34m)\u001b[0m\u001b[0;34m\u001b[0m\u001b[0m\n\u001b[0m",
      "\u001b[0;32m~/project/src/python/models.py\u001b[0m in \u001b[0;36mtrain\u001b[0;34m(self)\u001b[0m\n\u001b[1;32m     60\u001b[0m                     \u001b[0mepochs\u001b[0m \u001b[0;34m=\u001b[0m \u001b[0mself\u001b[0m\u001b[0;34m.\u001b[0m\u001b[0mepochs\u001b[0m\u001b[0;34m,\u001b[0m\u001b[0;34m\u001b[0m\u001b[0m\n\u001b[1;32m     61\u001b[0m                     \u001b[0muse_multiprocessing\u001b[0m \u001b[0;34m=\u001b[0m \u001b[0;32mTrue\u001b[0m\u001b[0;34m,\u001b[0m\u001b[0;34m\u001b[0m\u001b[0m\n\u001b[0;32m---> 62\u001b[0;31m                     callbacks = self.callbacks)\n\u001b[0m\u001b[1;32m     63\u001b[0m         \u001b[0;31m# clear save paths to avoid overwriting accidentaly\u001b[0m\u001b[0;34m\u001b[0m\u001b[0;34m\u001b[0m\u001b[0m\n\u001b[1;32m     64\u001b[0m         \u001b[0mself\u001b[0m\u001b[0;34m.\u001b[0m\u001b[0msaveName\u001b[0m \u001b[0;34m=\u001b[0m \u001b[0;32mNone\u001b[0m\u001b[0;34m\u001b[0m\u001b[0m\n",
      "\u001b[0;32m~/anaconda3/lib/python3.6/site-packages/keras/legacy/interfaces.py\u001b[0m in \u001b[0;36mwrapper\u001b[0;34m(*args, **kwargs)\u001b[0m\n\u001b[1;32m     89\u001b[0m                 warnings.warn('Update your `' + object_name +\n\u001b[1;32m     90\u001b[0m                               '` call to the Keras 2 API: ' + signature, stacklevel=2)\n\u001b[0;32m---> 91\u001b[0;31m             \u001b[0;32mreturn\u001b[0m \u001b[0mfunc\u001b[0m\u001b[0;34m(\u001b[0m\u001b[0;34m*\u001b[0m\u001b[0margs\u001b[0m\u001b[0;34m,\u001b[0m \u001b[0;34m**\u001b[0m\u001b[0mkwargs\u001b[0m\u001b[0;34m)\u001b[0m\u001b[0;34m\u001b[0m\u001b[0m\n\u001b[0m\u001b[1;32m     92\u001b[0m         \u001b[0mwrapper\u001b[0m\u001b[0;34m.\u001b[0m\u001b[0m_original_function\u001b[0m \u001b[0;34m=\u001b[0m \u001b[0mfunc\u001b[0m\u001b[0;34m\u001b[0m\u001b[0m\n\u001b[1;32m     93\u001b[0m         \u001b[0;32mreturn\u001b[0m \u001b[0mwrapper\u001b[0m\u001b[0;34m\u001b[0m\u001b[0m\n",
      "\u001b[0;32m~/anaconda3/lib/python3.6/site-packages/keras/engine/training.py\u001b[0m in \u001b[0;36mfit_generator\u001b[0;34m(self, generator, steps_per_epoch, epochs, verbose, callbacks, validation_data, validation_steps, class_weight, max_queue_size, workers, use_multiprocessing, shuffle, initial_epoch)\u001b[0m\n\u001b[1;32m   1424\u001b[0m             \u001b[0muse_multiprocessing\u001b[0m\u001b[0;34m=\u001b[0m\u001b[0muse_multiprocessing\u001b[0m\u001b[0;34m,\u001b[0m\u001b[0;34m\u001b[0m\u001b[0m\n\u001b[1;32m   1425\u001b[0m             \u001b[0mshuffle\u001b[0m\u001b[0;34m=\u001b[0m\u001b[0mshuffle\u001b[0m\u001b[0;34m,\u001b[0m\u001b[0;34m\u001b[0m\u001b[0m\n\u001b[0;32m-> 1426\u001b[0;31m             initial_epoch=initial_epoch)\n\u001b[0m\u001b[1;32m   1427\u001b[0m \u001b[0;34m\u001b[0m\u001b[0m\n\u001b[1;32m   1428\u001b[0m     \u001b[0;34m@\u001b[0m\u001b[0minterfaces\u001b[0m\u001b[0;34m.\u001b[0m\u001b[0mlegacy_generator_methods_support\u001b[0m\u001b[0;34m\u001b[0m\u001b[0m\n",
      "\u001b[0;32m~/anaconda3/lib/python3.6/site-packages/keras/engine/training_generator.py\u001b[0m in \u001b[0;36mfit_generator\u001b[0;34m(model, generator, steps_per_epoch, epochs, verbose, callbacks, validation_data, validation_steps, class_weight, max_queue_size, workers, use_multiprocessing, shuffle, initial_epoch)\u001b[0m\n\u001b[1;32m    189\u001b[0m                 outs = model.train_on_batch(x, y,\n\u001b[1;32m    190\u001b[0m                                             \u001b[0msample_weight\u001b[0m\u001b[0;34m=\u001b[0m\u001b[0msample_weight\u001b[0m\u001b[0;34m,\u001b[0m\u001b[0;34m\u001b[0m\u001b[0m\n\u001b[0;32m--> 191\u001b[0;31m                                             class_weight=class_weight)\n\u001b[0m\u001b[1;32m    192\u001b[0m \u001b[0;34m\u001b[0m\u001b[0m\n\u001b[1;32m    193\u001b[0m                 \u001b[0;32mif\u001b[0m \u001b[0;32mnot\u001b[0m \u001b[0misinstance\u001b[0m\u001b[0;34m(\u001b[0m\u001b[0mouts\u001b[0m\u001b[0;34m,\u001b[0m \u001b[0mlist\u001b[0m\u001b[0;34m)\u001b[0m\u001b[0;34m:\u001b[0m\u001b[0;34m\u001b[0m\u001b[0m\n",
      "\u001b[0;32m~/anaconda3/lib/python3.6/site-packages/keras/engine/training.py\u001b[0m in \u001b[0;36mtrain_on_batch\u001b[0;34m(self, x, y, sample_weight, class_weight)\u001b[0m\n\u001b[1;32m   1218\u001b[0m             \u001b[0mins\u001b[0m \u001b[0;34m=\u001b[0m \u001b[0mx\u001b[0m \u001b[0;34m+\u001b[0m \u001b[0my\u001b[0m \u001b[0;34m+\u001b[0m \u001b[0msample_weights\u001b[0m\u001b[0;34m\u001b[0m\u001b[0m\n\u001b[1;32m   1219\u001b[0m         \u001b[0mself\u001b[0m\u001b[0;34m.\u001b[0m\u001b[0m_make_train_function\u001b[0m\u001b[0;34m(\u001b[0m\u001b[0;34m)\u001b[0m\u001b[0;34m\u001b[0m\u001b[0m\n\u001b[0;32m-> 1220\u001b[0;31m         \u001b[0moutputs\u001b[0m \u001b[0;34m=\u001b[0m \u001b[0mself\u001b[0m\u001b[0;34m.\u001b[0m\u001b[0mtrain_function\u001b[0m\u001b[0;34m(\u001b[0m\u001b[0mins\u001b[0m\u001b[0;34m)\u001b[0m\u001b[0;34m\u001b[0m\u001b[0m\n\u001b[0m\u001b[1;32m   1221\u001b[0m         \u001b[0;32mif\u001b[0m \u001b[0mlen\u001b[0m\u001b[0;34m(\u001b[0m\u001b[0moutputs\u001b[0m\u001b[0;34m)\u001b[0m \u001b[0;34m==\u001b[0m \u001b[0;36m1\u001b[0m\u001b[0;34m:\u001b[0m\u001b[0;34m\u001b[0m\u001b[0m\n\u001b[1;32m   1222\u001b[0m             \u001b[0;32mreturn\u001b[0m \u001b[0moutputs\u001b[0m\u001b[0;34m[\u001b[0m\u001b[0;36m0\u001b[0m\u001b[0;34m]\u001b[0m\u001b[0;34m\u001b[0m\u001b[0m\n",
      "\u001b[0;32m~/anaconda3/lib/python3.6/site-packages/keras/backend/tensorflow_backend.py\u001b[0m in \u001b[0;36m__call__\u001b[0;34m(self, inputs)\u001b[0m\n\u001b[1;32m   2659\u001b[0m                 \u001b[0;32mreturn\u001b[0m \u001b[0mself\u001b[0m\u001b[0;34m.\u001b[0m\u001b[0m_legacy_call\u001b[0m\u001b[0;34m(\u001b[0m\u001b[0minputs\u001b[0m\u001b[0;34m)\u001b[0m\u001b[0;34m\u001b[0m\u001b[0m\n\u001b[1;32m   2660\u001b[0m \u001b[0;34m\u001b[0m\u001b[0m\n\u001b[0;32m-> 2661\u001b[0;31m             \u001b[0;32mreturn\u001b[0m \u001b[0mself\u001b[0m\u001b[0;34m.\u001b[0m\u001b[0m_call\u001b[0m\u001b[0;34m(\u001b[0m\u001b[0minputs\u001b[0m\u001b[0;34m)\u001b[0m\u001b[0;34m\u001b[0m\u001b[0m\n\u001b[0m\u001b[1;32m   2662\u001b[0m         \u001b[0;32melse\u001b[0m\u001b[0;34m:\u001b[0m\u001b[0;34m\u001b[0m\u001b[0m\n\u001b[1;32m   2663\u001b[0m             \u001b[0;32mif\u001b[0m \u001b[0mpy_any\u001b[0m\u001b[0;34m(\u001b[0m\u001b[0mis_tensor\u001b[0m\u001b[0;34m(\u001b[0m\u001b[0mx\u001b[0m\u001b[0;34m)\u001b[0m \u001b[0;32mfor\u001b[0m \u001b[0mx\u001b[0m \u001b[0;32min\u001b[0m \u001b[0minputs\u001b[0m\u001b[0;34m)\u001b[0m\u001b[0;34m:\u001b[0m\u001b[0;34m\u001b[0m\u001b[0m\n",
      "\u001b[0;32m~/anaconda3/lib/python3.6/site-packages/keras/backend/tensorflow_backend.py\u001b[0m in \u001b[0;36m_call\u001b[0;34m(self, inputs)\u001b[0m\n\u001b[1;32m   2612\u001b[0m                 array_vals.append(\n\u001b[1;32m   2613\u001b[0m                     np.asarray(value,\n\u001b[0;32m-> 2614\u001b[0;31m                                dtype=tensor.dtype.base_dtype.name))\n\u001b[0m\u001b[1;32m   2615\u001b[0m         \u001b[0;32mif\u001b[0m \u001b[0mself\u001b[0m\u001b[0;34m.\u001b[0m\u001b[0mfeed_dict\u001b[0m\u001b[0;34m:\u001b[0m\u001b[0;34m\u001b[0m\u001b[0m\n\u001b[1;32m   2616\u001b[0m             \u001b[0;32mfor\u001b[0m \u001b[0mkey\u001b[0m \u001b[0;32min\u001b[0m \u001b[0msorted\u001b[0m\u001b[0;34m(\u001b[0m\u001b[0mself\u001b[0m\u001b[0;34m.\u001b[0m\u001b[0mfeed_dict\u001b[0m\u001b[0;34m.\u001b[0m\u001b[0mkeys\u001b[0m\u001b[0;34m(\u001b[0m\u001b[0;34m)\u001b[0m\u001b[0;34m)\u001b[0m\u001b[0;34m:\u001b[0m\u001b[0;34m\u001b[0m\u001b[0m\n",
      "\u001b[0;32m~/anaconda3/lib/python3.6/site-packages/numpy/core/numeric.py\u001b[0m in \u001b[0;36masarray\u001b[0;34m(a, dtype, order)\u001b[0m\n\u001b[1;32m    490\u001b[0m \u001b[0;34m\u001b[0m\u001b[0m\n\u001b[1;32m    491\u001b[0m     \"\"\"\n\u001b[0;32m--> 492\u001b[0;31m     \u001b[0;32mreturn\u001b[0m \u001b[0marray\u001b[0m\u001b[0;34m(\u001b[0m\u001b[0ma\u001b[0m\u001b[0;34m,\u001b[0m \u001b[0mdtype\u001b[0m\u001b[0;34m,\u001b[0m \u001b[0mcopy\u001b[0m\u001b[0;34m=\u001b[0m\u001b[0;32mFalse\u001b[0m\u001b[0;34m,\u001b[0m \u001b[0morder\u001b[0m\u001b[0;34m=\u001b[0m\u001b[0morder\u001b[0m\u001b[0;34m)\u001b[0m\u001b[0;34m\u001b[0m\u001b[0m\n\u001b[0m\u001b[1;32m    493\u001b[0m \u001b[0;34m\u001b[0m\u001b[0m\n\u001b[1;32m    494\u001b[0m \u001b[0;34m\u001b[0m\u001b[0m\n",
      "\u001b[0;31mKeyboardInterrupt\u001b[0m: "
     ]
    }
   ],
   "source": [
    "modelTrainer.changeBatchLogInterval(5)\n",
    "modelTrainer.changeEpochs(1)\n",
    "modelTrainer.changeDropout(0.6)\n",
    "modelTrainer.setWeightInitializer('he_normal')\n",
    "modelTrainer.changeConvolutionalDepth(32)\n",
    "modelTrainer.changeBatchSize(36)\n",
    "modelTrainer.setClassMap(classMap)\n",
    "modelTrainer.setOptimizerParams(lr = 1.0*(10**-4),momentum = 0.9,decay = 1.0*(10**-10))\n",
    "modelTrainer.setSaveName(\"multiclass32\")\n",
    "modelTrainer.train()"
   ]
  },
  {
   "cell_type": "markdown",
   "metadata": {},
   "source": [
    "### Train multi-class model for another epoch"
   ]
  },
  {
   "cell_type": "code",
   "execution_count": 3,
   "metadata": {},
   "outputs": [],
   "source": [
    "modelTrainer.changeBatchLogInterval(5)\n",
    "modelTrainer.changeEpochs(1)\n",
    "modelTrainer.changeDropout(0.6)\n",
    "modelTrainer.setWeightInitializer('he_normal')\n",
    "modelTrainer.changeBatchSize(36)\n",
    "modelTrainer.setClassMap(classMap)\n",
    "modelTrainer.setOptimizerParams(lr = 1.0*(10**-8),momentum = 0,decay =0)\n",
    "modelTrainer.setSaveName(\"multiclass32\")"
   ]
  },
  {
   "cell_type": "code",
   "execution_count": 4,
   "metadata": {},
   "outputs": [
    {
     "name": "stdout",
     "output_type": "stream",
     "text": [
      "----------Model Parameters----------\n",
      "Initial Conv. Depth : 32\n",
      "Number of Classes   : 4\n",
      "Dropout             : 0.6\n",
      "Activation Function : Relu\n",
      "Input Shape         : (256, 256, 3)\n",
      "Batch Size          : 36\n",
      "--------Optimizer Parameters--------\n",
      "Learning Rate : <tf.Variable 'SGD/lr:0' shape=() dtype=float32_ref>\n",
      "Momentum      : <tf.Variable 'SGD/momentum:0' shape=() dtype=float32_ref>\n",
      "Initial Decay : 0\n",
      "Epoch 1/1\n",
      " 989/9115 [==>...........................] - ETA: 3:49:44 - loss: 0.3777 - acc: 0.8524 - recall: 0.8011 - precision: 0.9056 - f1Score: 0.85001000\n",
      "1989/9115 [=====>........................] - ETA: 3:21:04 - loss: 0.3967 - acc: 0.8443 - recall: 0.7907 - precision: 0.9004 - f1Score: 0.84182000\n",
      "2989/9115 [========>.....................] - ETA: 2:52:47 - loss: 0.3955 - acc: 0.8442 - recall: 0.7906 - precision: 0.9004 - f1Score: 0.84183000\n",
      "3989/9115 [============>.................] - ETA: 2:24:30 - loss: 0.3924 - acc: 0.8456 - recall: 0.7921 - precision: 0.9014 - f1Score: 0.84304000\n",
      "4989/9115 [===============>..............] - ETA: 1:56:17 - loss: 0.3929 - acc: 0.8454 - recall: 0.7919 - precision: 0.9011 - f1Score: 0.84285000\n",
      "5989/9115 [==================>...........] - ETA: 1:28:05 - loss: 0.3922 - acc: 0.8460 - recall: 0.7925 - precision: 0.9014 - f1Score: 0.84336000\n",
      "6989/9115 [======================>.......] - ETA: 59:54 - loss: 0.3908 - acc: 0.8462 - recall: 0.7932 - precision: 0.9013 - f1Score: 0.84377000\n",
      "7989/9115 [=========================>....] - ETA: 31:43 - loss: 0.3913 - acc: 0.8461 - recall: 0.7930 - precision: 0.9014 - f1Score: 0.84368000\n",
      "8989/9115 [============================>.] - ETA: 3:32 - loss: 0.3915 - acc: 0.8461 - recall: 0.7931 - precision: 0.9013 - f1Score: 0.84369000\n",
      "9114/9115 [============================>.] - ETA: 1s - loss: 0.3918 - acc: 0.8460 - recall: 0.7930 - precision: 0.9011 - f1Score: 0.84351000\n",
      "9115/9115 [==============================] - 16374s 2s/step - loss: 0.3918 - acc: 0.8460 - recall: 0.7930 - precision: 0.9011 - f1Score: 0.8435 - val_loss: 0.3987 - val_acc: 0.8423 - val_recall: 0.7895 - val_precision: 0.8998 - val_f1Score: 0.8409\n",
      "\n",
      "Epoch 00001: saving model to /home/ubuntu/project/model_checkpoints/unet//smallMulticlassNetworkEpoch2.hdf5\n"
     ]
    }
   ],
   "source": [
    "modelTrainer.trainMore(\"multiclass32\")"
   ]
  },
  {
   "cell_type": "markdown",
   "metadata": {},
   "source": [
    "## Multi-class model (Initial Depth = 16)"
   ]
  },
  {
   "cell_type": "code",
   "execution_count": null,
   "metadata": {},
   "outputs": [
    {
     "name": "stdout",
     "output_type": "stream",
     "text": [
      "----------Model Parameters----------\n",
      "Initial Conv. Depth : 16\n",
      "Number of Classes   : 4\n",
      "Dropout             : 0.6\n",
      "Activation Function : Relu\n",
      "Input Shape         : (256, 256, 3)\n",
      "Batch Size          : 64\n",
      "--------Optimizer Parameters--------\n",
      "Learning Rate : <tf.Variable 'SGD/lr:0' shape=() dtype=float32_ref>\n",
      "Momentum      : <tf.Variable 'SGD/momentum:0' shape=() dtype=float32_ref>\n",
      "Initial Decay : 1e-10\n",
      "Epoch 1/1\n",
      " 989/5127 [====>.........................] - ETA: 2:05:19 - loss: 0.7004 - acc: 0.7410 - recall: 0.6494 - precision: 0.8336 - f1Score: 0.72461000\n",
      "1989/5127 [==========>...................] - ETA: 1:34:50 - loss: 0.6133 - acc: 0.7608 - recall: 0.6681 - precision: 0.8819 - f1Score: 0.75722000\n",
      "2989/5127 [================>.............] - ETA: 1:21:25 - loss: 0.5779 - acc: 0.7693 - recall: 0.6765 - precision: 0.8985 - f1Score: 0.76963000\n",
      "3601/5127 [====================>.........] - ETA: 1:12:16 - loss: 0.5633 - acc: 0.7735 - recall: 0.6801 - precision: 0.9050 - f1Score: 0.7746"
     ]
    }
   ],
   "source": [
    "classMap = {\n",
    "    'maize' : 1,\n",
    "    'maizevariety': 1,\n",
    "    'wheat': 2,\n",
    "    'mungbean': 3\n",
    "}\n",
    "\n",
    "modelTrainer.changeBatchLogInterval(5)\n",
    "modelTrainer.changeEpochs(1)\n",
    "modelTrainer.changeDropout(0.6)\n",
    "modelTrainer.setWeightInitializer('he_normal')\n",
    "modelTrainer.changeConvolutionalDepth(16)\n",
    "modelTrainer.changeBatchSize(64)\n",
    "modelTrainer.setClassMap(classMap)\n",
    "modelTrainer.setOptimizerParams(lr = 1.0*(10**-4),momentum = 0.9,decay = 1.0*(10**-10))\n",
    "modelTrainer.setSaveName(\"multiclass16\")\n",
    "modelTrainer.train()"
   ]
  },
  {
   "cell_type": "code",
   "execution_count": 3,
   "metadata": {},
   "outputs": [
    {
     "name": "stdout",
     "output_type": "stream",
     "text": [
      "----------Model Parameters----------\n",
      "Initial Conv. Depth : 64\n",
      "Number of Classes   : 4\n",
      "Dropout             : 0\n",
      "Activation Function : Relu\n",
      "Input Shape         : [256, 256, 3]\n",
      "Batch Size          : 48\n",
      "--------Optimizer Parameters--------\n",
      "Learning Rate : <tf.Variable 'SGD_1/lr:0' shape=() dtype=float32_ref>\n",
      "Momentum      : <tf.Variable 'SGD_1/momentum:0' shape=() dtype=float32_ref>\n",
      "Initial Decay : 0\n",
      "857/857 [==============================] - 1631s 2s/step\n",
      "val_loss : 0.26233535304300426\n",
      "val_acc : 0.8882396911100301\n",
      "val_recall : 0.8761578648760828\n",
      "val_precision : 0.900224934520076\n",
      "val_f1Score : 0.8880166963629572\n"
     ]
    }
   ],
   "source": [
    "modelTrainer.setClassMap(classMap)\n",
    "modelTrainer.setOldModel(\"unet_multiclass\")\n",
    "modelTrainer.changeBatchSize(48)\n",
    "modelTrainer.evaluate(validationOnly = True)"
   ]
  },
  {
   "cell_type": "code",
   "execution_count": 3,
   "metadata": {},
   "outputs": [
    {
     "name": "stdout",
     "output_type": "stream",
     "text": [
      "----------Model Parameters----------\n",
      "Initial Conv. Depth : 64\n",
      "Number of Classes   : 2\n",
      "Dropout             : 0\n",
      "Activation Function : Relu\n",
      "Input Shape         : [256, 256, 3]\n",
      "Batch Size          : 48\n",
      "--------Optimizer Parameters--------\n",
      "Learning Rate : <tf.Variable 'SGD_1/lr:0' shape=() dtype=float32_ref>\n",
      "Momentum      : <tf.Variable 'SGD_1/momentum:0' shape=() dtype=float32_ref>\n",
      "Initial Decay : 0\n",
      "184/184 [==============================] - 321s 2s/step\n",
      "val_loss : 7.863147219885951\n",
      "val_acc : 0.0579026694935949\n",
      "val_recall : 0.057902666051750595\n",
      "val_precision : 0.05790266674011946\n",
      "val_f1Score : 0.057902666395935026\n"
     ]
    }
   ],
   "source": [
    "#from keras.models import load_model\n",
    "#m = load_model(model_path + \"maize_model.hdf5\")\n",
    "#m.summary()\n",
    "modelTrainer.setClassMap({\"maize\" : 1})\n",
    "modelTrainer.setOldModel(\"maize_model\")\n",
    "modelTrainer.changeBatchSize(48)\n",
    "modelTrainer.evaluate(validationOnly = True)"
   ]
  },
  {
   "cell_type": "code",
   "execution_count": 3,
   "metadata": {},
   "outputs": [
    {
     "name": "stdout",
     "output_type": "stream",
     "text": [
      "----------Model Parameters----------\n",
      "Initial Conv. Depth : 4\n",
      "Number of Classes   : 2\n",
      "Dropout             : 0\n",
      "Activation Function : Relu\n",
      "Input Shape         : [256, 256, 3]\n",
      "Batch Size          : 48\n",
      "--------Optimizer Parameters--------\n",
      "Learning Rate : <tf.Variable 'SGD_1/lr:0' shape=() dtype=float32_ref>\n",
      "Momentum      : <tf.Variable 'SGD_1/momentum:0' shape=() dtype=float32_ref>\n",
      "Initial Decay : 0\n",
      "184/184 [==============================] - 123s 671ms/step\n",
      "val_loss : 7.764132841773655\n",
      "val_acc : 0.05984660347356745\n",
      "val_recall : 0.05984660347356745\n",
      "val_precision : 0.05984660371652116\n",
      "val_f1Score : 0.05984660377725959\n"
     ]
    }
   ],
   "source": [
    "modelTrainer.setClassMap({\"maize\" : 1})\n",
    "modelTrainer.setOldModel(\"maize4\")\n",
    "modelTrainer.changeBatchSize(48)\n",
    "modelTrainer.evaluate(validationOnly = True)"
   ]
  },
  {
   "cell_type": "code",
   "execution_count": null,
   "metadata": {},
   "outputs": [],
   "source": []
  }
 ],
 "metadata": {
  "kernelspec": {
   "display_name": "Python [default]",
   "language": "python",
   "name": "python3"
  },
  "language_info": {
   "codemirror_mode": {
    "name": "ipython",
    "version": 3
   },
   "file_extension": ".py",
   "mimetype": "text/x-python",
   "name": "python",
   "nbconvert_exporter": "python",
   "pygments_lexer": "ipython3",
   "version": "3.6.4"
  }
 },
 "nbformat": 4,
 "nbformat_minor": 2
}
