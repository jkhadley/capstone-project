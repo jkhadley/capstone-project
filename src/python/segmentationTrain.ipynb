{
 "cells": [
  {
   "cell_type": "markdown",
   "metadata": {},
   "source": [
    "### Import Libraries"
   ]
  },
  {
   "cell_type": "code",
   "execution_count": 1,
   "metadata": {},
   "outputs": [
    {
     "name": "stderr",
     "output_type": "stream",
     "text": [
      "/home/ubuntu/anaconda3/lib/python3.6/site-packages/h5py/__init__.py:36: FutureWarning: Conversion of the second argument of issubdtype from `float` to `np.floating` is deprecated. In future, it will be treated as `np.float64 == np.dtype(float).type`.\n",
      "  from ._conv import register_converters as _register_converters\n",
      "Using TensorFlow backend.\n"
     ]
    }
   ],
   "source": [
    "from models import ModelTrainer"
   ]
  },
  {
   "cell_type": "markdown",
   "metadata": {},
   "source": [
    "### Common Variables"
   ]
  },
  {
   "cell_type": "code",
   "execution_count": 2,
   "metadata": {},
   "outputs": [],
   "source": [
    "# path to data on aws\n",
    "data_path = \"/home/ubuntu/project/data/groundcover2016/\"\n",
    "model_path = \"/home/ubuntu/project/model_checkpoints/unet/\"\n",
    "results_path = \"/home/ubuntu/project/results/\"\n",
    "modelTrainer = ModelTrainer(data_path,results_path,model_path)\n",
    "modelTrainer.changeMetrics(['acc',recall,precision,f1Score])\n",
    "\n",
    "classMap = {\n",
    "    'maize' : 1,\n",
    "    'maizevariety': 1,\n",
    "    'wheat': 2,\n",
    "    'mungbean': 3\n",
    "}"
   ]
  },
  {
   "cell_type": "markdown",
   "metadata": {},
   "source": [
    "# Train Single Class Model"
   ]
  },
  {
   "cell_type": "code",
   "execution_count": 7,
   "metadata": {},
   "outputs": [
    {
     "name": "stdout",
     "output_type": "stream",
     "text": [
      "15\n",
      "2\n"
     ]
    }
   ],
   "source": [
    "modelTrainer.changeEpochs(3)\n",
    "modelTrainer.changeBatchSize(18)\n",
    "modelTrainer.setWeightInitializer('he_normal')\n",
    "modelTrainer.setOptimizerParams(lr = 1.0*(10**-3),momentum = 0.8,decay = 1.0*(10**-8))\n",
    "modelTrainer.changeDropout(0.6)\n",
    "modelTrainer.setClassName(\"maize\")\n",
    "modelTrainer.setSaveName(\"maize2\")"
   ]
  },
  {
   "cell_type": "code",
   "execution_count": 4,
   "metadata": {
    "scrolled": true
   },
   "outputs": [
    {
     "ename": "AttributeError",
     "evalue": "'NoneType' object has no attribute 'summary'",
     "output_type": "error",
     "traceback": [
      "\u001b[0;31m---------------------------------------------------------------------------\u001b[0m",
      "\u001b[0;31mAttributeError\u001b[0m                            Traceback (most recent call last)",
      "\u001b[0;32m<ipython-input-4-a0ed4abd8377>\u001b[0m in \u001b[0;36m<module>\u001b[0;34m()\u001b[0m\n\u001b[0;32m----> 1\u001b[0;31m \u001b[0mmodelTrainer\u001b[0m\u001b[0;34m.\u001b[0m\u001b[0mtrain\u001b[0m\u001b[0;34m(\u001b[0m\u001b[0;34m)\u001b[0m\u001b[0;34m\u001b[0m\u001b[0m\n\u001b[0m",
      "\u001b[0;32m~/project/src/python/models.py\u001b[0m in \u001b[0;36mtrain\u001b[0;34m(self)\u001b[0m\n\u001b[1;32m     45\u001b[0m \u001b[0;34m\u001b[0m\u001b[0m\n\u001b[1;32m     46\u001b[0m     \u001b[0;32mdef\u001b[0m \u001b[0mtrain\u001b[0m\u001b[0;34m(\u001b[0m\u001b[0mself\u001b[0m\u001b[0;34m)\u001b[0m\u001b[0;34m:\u001b[0m\u001b[0;34m\u001b[0m\u001b[0m\n\u001b[0;32m---> 47\u001b[0;31m         \u001b[0mself\u001b[0m\u001b[0;34m.\u001b[0m\u001b[0mprintParameters\u001b[0m\u001b[0;34m(\u001b[0m\u001b[0;34m)\u001b[0m\u001b[0;34m\u001b[0m\u001b[0m\n\u001b[0m\u001b[1;32m     48\u001b[0m         \u001b[0;31m# setup model\u001b[0m\u001b[0;34m\u001b[0m\u001b[0;34m\u001b[0m\u001b[0m\n\u001b[1;32m     49\u001b[0m         \u001b[0mself\u001b[0m\u001b[0;34m.\u001b[0m\u001b[0mcreateModel\u001b[0m\u001b[0;34m(\u001b[0m\u001b[0;34m)\u001b[0m\u001b[0;34m\u001b[0m\u001b[0m\n",
      "\u001b[0;32m~/project/src/python/models.py\u001b[0m in \u001b[0;36mprintParameters\u001b[0;34m(self)\u001b[0m\n\u001b[1;32m    159\u001b[0m \u001b[0;34m\u001b[0m\u001b[0m\n\u001b[1;32m    160\u001b[0m     \u001b[0;32mdef\u001b[0m \u001b[0mprintParameters\u001b[0m\u001b[0;34m(\u001b[0m\u001b[0mself\u001b[0m\u001b[0;34m)\u001b[0m\u001b[0;34m:\u001b[0m\u001b[0;34m\u001b[0m\u001b[0m\n\u001b[0;32m--> 161\u001b[0;31m         \u001b[0mself\u001b[0m\u001b[0;34m.\u001b[0m\u001b[0mmodel\u001b[0m\u001b[0;34m.\u001b[0m\u001b[0msummary\u001b[0m\u001b[0;34m(\u001b[0m\u001b[0;34m)\u001b[0m\u001b[0;34m\u001b[0m\u001b[0m\n\u001b[0m\u001b[1;32m    162\u001b[0m         \u001b[0mprint\u001b[0m\u001b[0;34m(\u001b[0m\u001b[0;34m\"----------Model Parameters----------\"\u001b[0m\u001b[0;34m)\u001b[0m\u001b[0;34m\u001b[0m\u001b[0m\n\u001b[1;32m    163\u001b[0m         \u001b[0mprint\u001b[0m\u001b[0;34m(\u001b[0m\u001b[0;34m\"Initial Conv. Depth : \"\u001b[0m \u001b[0;34m+\u001b[0m \u001b[0mstr\u001b[0m\u001b[0;34m(\u001b[0m\u001b[0mself\u001b[0m\u001b[0;34m.\u001b[0m\u001b[0mconv_depth\u001b[0m\u001b[0;34m)\u001b[0m\u001b[0;34m)\u001b[0m\u001b[0;34m\u001b[0m\u001b[0m\n",
      "\u001b[0;31mAttributeError\u001b[0m: 'NoneType' object has no attribute 'summary'"
     ]
    }
   ],
   "source": [
    "modelTrainer.train()"
   ]
  },
  {
   "cell_type": "markdown",
   "metadata": {},
   "source": [
    "### Train Smaller Single Class Network"
   ]
  },
  {
   "cell_type": "code",
   "execution_count": 5,
   "metadata": {},
   "outputs": [],
   "source": [
    "modelTrainer.changeBatchLogInterval(5)\n",
    "modelTrainer.changeEpochs(5)\n",
    "modelTrainer.changeDropout(0.6)\n",
    "modelTrainer.setWeightInitializer('he_normal')\n",
    "modelTrainer.changeConvolutionalDepth(4)\n",
    "modelTrainer.changeBatchSize(256)\n",
    "modelTrainer.setClassName(\"maize\")\n",
    "modelTrainer.setOptimizerParams(lr = 1.0*(10**-3),momentum = 0.9,decay = 1.0*(10**-6))\n",
    "modelTrainer.setSaveName(\"smallNetwork2\")\n"
   ]
  },
  {
   "cell_type": "code",
   "execution_count": 6,
   "metadata": {},
   "outputs": [
    {
     "name": "stdout",
     "output_type": "stream",
     "text": [
      "----------Model Parameters----------\n",
      "Initial Conv. Depth : 4\n",
      "Number of Classes   : 2\n",
      "Dropout             : 0.6\n",
      "Activation Function : Relu\n",
      "Input Shape         : (256, 256, 3)\n",
      "Batch Size          : 256\n",
      "--------Optimizer Parameters--------\n",
      "Learning Rate : <tf.Variable 'SGD_1/lr:0' shape=() dtype=float32_ref>\n",
      "Momentum      : <tf.Variable 'SGD_1/momentum:0' shape=() dtype=float32_ref>\n",
      "Initial Decay : 1e-06\n",
      "Epoch 1/5\n",
      "278/278 [==============================] - 1129s 4s/step - loss: 0.3179 - acc: 0.8480 - recall: 0.8480 - precision: 0.8480 - f1Score: 0.8480 - val_loss: 0.2137 - val_acc: 0.9181 - val_recall: 0.9181 - val_precision: 0.9181 - val_f1Score: 0.9181\n",
      "\n",
      "Epoch 00001: saving model to /home/ubuntu/project/model_checkpoints/unet//smallNetwork2.hdf5\n",
      "Epoch 2/5\n",
      "278/278 [==============================] - 1126s 4s/step - loss: 0.1994 - acc: 0.9283 - recall: 0.9283 - precision: 0.9283 - f1Score: 0.9283 - val_loss: 0.1706 - val_acc: 0.9338 - val_recall: 0.9338 - val_precision: 0.9338 - val_f1Score: 0.9338\n",
      "\n",
      "Epoch 00002: saving model to /home/ubuntu/project/model_checkpoints/unet//smallNetwork2.hdf5\n",
      "Epoch 3/5\n",
      "278/278 [==============================] - 1127s 4s/step - loss: 0.1766 - acc: 0.9339 - recall: 0.9339 - precision: 0.9339 - f1Score: 0.9339 - val_loss: 0.1588 - val_acc: 0.9358 - val_recall: 0.9358 - val_precision: 0.9358 - val_f1Score: 0.9358\n",
      "\n",
      "Epoch 00003: saving model to /home/ubuntu/project/model_checkpoints/unet//smallNetwork2.hdf5\n",
      "Epoch 4/5\n",
      "155/278 [===============>..............] - ETA: 7:28 - loss: 0.1629 - acc: 0.9377 - recall: 0.9377 - precision: 0.9377 - f1Score: 0.93771000\n",
      "278/278 [==============================] - 1124s 4s/step - loss: 0.1673 - acc: 0.9351 - recall: 0.9351 - precision: 0.9351 - f1Score: 0.9351 - val_loss: 0.1518 - val_acc: 0.9393 - val_recall: 0.9393 - val_precision: 0.9393 - val_f1Score: 0.9393\n",
      "\n",
      "Epoch 00004: saving model to /home/ubuntu/project/model_checkpoints/unet//smallNetwork2.hdf5\n",
      "Epoch 5/5\n",
      "278/278 [==============================] - 1127s 4s/step - loss: 0.1586 - acc: 0.9368 - recall: 0.9368 - precision: 0.9368 - f1Score: 0.9368 - val_loss: 0.1450 - val_acc: 0.9397 - val_recall: 0.9397 - val_precision: 0.9397 - val_f1Score: 0.9397\n",
      "\n",
      "Epoch 00005: saving model to /home/ubuntu/project/model_checkpoints/unet//smallNetwork2.hdf5\n"
     ]
    }
   ],
   "source": [
    "modelTrainer.train()"
   ]
  },
  {
   "cell_type": "markdown",
   "metadata": {},
   "source": [
    "### Train an even smaller network"
   ]
  },
  {
   "cell_type": "code",
   "execution_count": 11,
   "metadata": {
    "scrolled": true
   },
   "outputs": [
    {
     "name": "stderr",
     "output_type": "stream",
     "text": [
      "/home/ubuntu/project/src/python/segmentation/models.py:123: UserWarning: Update your `Model` call to the Keras 2 API: `Model(inputs=Tensor(\"in..., outputs=Tensor(\"co...)`\n",
      "  model = Model(input = inputs,output = outputs)\n"
     ]
    }
   ],
   "source": [
    "# variables\n",
    "epochs = 2\n",
    "batch_size = 256\n",
    "steps_per_epoch = round(maize_train_size/batch_size)\n",
    "validation_steps = round(maize_validate_size/batch_size)\n",
    "\n",
    "# define parameters to build the model\n",
    "modelParams = {\n",
    "    'input_shape' : input_shape,\n",
    "    'conv_depth' : 1,\n",
    "    'init_w' : \"he_normal\",\n",
    "    'lr' : 5.0*(10**-3),\n",
    "    'weight_decay' : 1.0*(10**-5),\n",
    "    'n_classes' : 2,\n",
    "    'momentum' : 0.9,\n",
    "    'dropout' : 0.6,\n",
    "    'loss': 'categorical_crossentropy',\n",
    "}\n",
    "model = unet(modelParams)\n",
    "\n",
    "trainGenerator, validateGenerator = getBatchGenerators(batch_size,data_path,shape,className = \"maize\")\n",
    "\n",
    "# define callbacks \n",
    "model_checkpoint = ModelCheckpoint(model_path + 'unet/smallest_maize_model.hdf5', monitor='loss',verbose=1, save_best_only=True)\n",
    "logger = WriteBatchResultsToCSV(model_path + \"unet/smallest_singleclass_batch.csv\",model_path + \"unet/smallest_singleclass_epoch.csv\",5)"
   ]
  },
  {
   "cell_type": "code",
   "execution_count": 12,
   "metadata": {},
   "outputs": [
    {
     "name": "stdout",
     "output_type": "stream",
     "text": [
      "Epoch 1/2\n",
      "278/278 [==============================] - 525s 2s/step - loss: 0.4935 - acc: 0.8142 - val_loss: 0.4365 - val_acc: 0.8441\n",
      "\n",
      "Epoch 00001: loss improved from inf to 0.49348, saving model to /home/ubuntu/project/model_checkpoints/unet/smallest_maize_model.hdf5\n",
      "Epoch 2/2\n",
      "278/278 [==============================] - 521s 2s/step - loss: 0.4701 - acc: 0.8209 - val_loss: 0.4337 - val_acc: 0.8444\n",
      "\n",
      "Epoch 00002: loss improved from 0.49348 to 0.47012, saving model to /home/ubuntu/project/model_checkpoints/unet/smallest_maize_model.hdf5\n"
     ]
    },
    {
     "data": {
      "text/plain": [
       "<keras.callbacks.History at 0x7f10fdf7a0b8>"
      ]
     },
     "execution_count": 12,
     "metadata": {},
     "output_type": "execute_result"
    }
   ],
   "source": [
    "# fit generators to the model\n",
    "model.fit_generator(generator = trainGenerator,\n",
    "                    validation_data = validateGenerator,\n",
    "                    steps_per_epoch = steps_per_epoch,\n",
    "                    validation_steps = validation_steps,\n",
    "                    epochs = epochs,\n",
    "                    use_multiprocessing = True,\n",
    "                    callbacks =[model_checkpoint, logger])"
   ]
  },
  {
   "cell_type": "markdown",
   "metadata": {},
   "source": [
    "# Train a multi-class model"
   ]
  },
  {
   "cell_type": "code",
   "execution_count": 3,
   "metadata": {},
   "outputs": [],
   "source": [
    "modelTrainer.changeBatchLogInterval(5)\n",
    "modelTrainer.changeEpochs(5)\n",
    "modelTrainer.changeDropout(0.6)\n",
    "modelTrainer.setWeightInitializer('he_normal')\n",
    "modelTrainer.changeConvolutionalDepth(32)\n",
    "modelTrainer.changeBatchSize(36)\n",
    "modelTrainer.setClassMap(classMap)\n",
    "modelTrainer.setOptimizerParams(lr = 1.0*(10**-4),momentum = 0.9,decay = 1.0*(10**-10))\n",
    "modelTrainer.setSaveName(\"smallMulticlassNetwork\")"
   ]
  },
  {
   "cell_type": "code",
   "execution_count": 4,
   "metadata": {},
   "outputs": [
    {
     "name": "stdout",
     "output_type": "stream",
     "text": [
      "----------Model Parameters----------\n",
      "Initial Conv. Depth : 32\n",
      "Number of Classes   : 4\n",
      "Dropout             : 0.6\n",
      "Activation Function : Relu\n",
      "Input Shape         : (256, 256, 3)\n",
      "Batch Size          : 36\n",
      "--------Optimizer Parameters--------\n",
      "Learning Rate : <tf.Variable 'SGD/lr:0' shape=() dtype=float32_ref>\n",
      "Momentum      : <tf.Variable 'SGD/momentum:0' shape=() dtype=float32_ref>\n",
      "Initial Decay : 1e-10\n",
      "Epoch 1/5\n",
      " 989/9115 [==>...........................] - ETA: 3:50:11 - loss: 0.5575 - acc: 0.7833 - recall: 0.6878 - precision: 0.9086 - f1Score: 0.78111000\n",
      "1989/9115 [=====>........................] - ETA: 3:21:26 - loss: 0.5158 - acc: 0.7978 - recall: 0.6981 - precision: 0.9196 - f1Score: 0.79242000\n",
      "2989/9115 [========>.....................] - ETA: 2:53:01 - loss: 0.4992 - acc: 0.8039 - recall: 0.7092 - precision: 0.9167 - f1Score: 0.79853000\n",
      "3989/9115 [============>.................] - ETA: 2:24:41 - loss: 0.4833 - acc: 0.8105 - recall: 0.7224 - precision: 0.9140 - f1Score: 0.80584000\n",
      "4989/9115 [===============>..............] - ETA: 1:56:25 - loss: 0.4697 - acc: 0.8158 - recall: 0.7332 - precision: 0.9119 - f1Score: 0.81165000\n",
      "5989/9115 [==================>...........] - ETA: 1:28:11 - loss: 0.4639 - acc: 0.8177 - recall: 0.7382 - precision: 0.9094 - f1Score: 0.81386000\n",
      "6989/9115 [======================>.......] - ETA: 59:58 - loss: 0.4561 - acc: 0.8204 - recall: 0.7437 - precision: 0.9088 - f1Score: 0.8169  7000\n",
      "7989/9115 [=========================>....] - ETA: 31:45 - loss: 0.4493 - acc: 0.8230 - recall: 0.7485 - precision: 0.9081 - f1Score: 0.81968000\n",
      "8989/9115 [============================>.] - ETA: 3:33 - loss: 0.4432 - acc: 0.8255 - recall: 0.7533 - precision: 0.9073 - f1Score: 0.82219000\n",
      "9114/9115 [============================>.] - ETA: 1s - loss: 0.4427 - acc: 0.8257 - recall: 0.7537 - precision: 0.9072 - f1Score: 0.82231000\n",
      "9115/9115 [==============================] - 17138s 2s/step - loss: 0.4427 - acc: 0.8257 - recall: 0.7537 - precision: 0.9072 - f1Score: 0.8223 - val_loss: 0.3977 - val_acc: 0.8428 - val_recall: 0.7899 - val_precision: 0.9001 - val_f1Score: 0.8413\n",
      "\n",
      "Epoch 00001: saving model to /home/ubuntu/project/model_checkpoints/unet//smallMulticlassNetwork.hdf5\n",
      "Epoch 2/5\n",
      " 232/9115 [..............................] - ETA: 4:12:07 - loss: 0.3986 - acc: 0.8435 - recall: 0.7889 - precision: 0.8998 - f1Score: 0.8406"
     ]
    },
    {
     "ename": "KeyboardInterrupt",
     "evalue": "",
     "output_type": "error",
     "traceback": [
      "\u001b[0;31m---------------------------------------------------------------------------\u001b[0m",
      "\u001b[0;31mKeyboardInterrupt\u001b[0m                         Traceback (most recent call last)",
      "\u001b[0;32m<ipython-input-4-a0ed4abd8377>\u001b[0m in \u001b[0;36m<module>\u001b[0;34m()\u001b[0m\n\u001b[0;32m----> 1\u001b[0;31m \u001b[0mmodelTrainer\u001b[0m\u001b[0;34m.\u001b[0m\u001b[0mtrain\u001b[0m\u001b[0;34m(\u001b[0m\u001b[0;34m)\u001b[0m\u001b[0;34m\u001b[0m\u001b[0m\n\u001b[0m",
      "\u001b[0;32m~/project/src/python/models.py\u001b[0m in \u001b[0;36mtrain\u001b[0;34m(self)\u001b[0m\n\u001b[1;32m     60\u001b[0m                     \u001b[0mepochs\u001b[0m \u001b[0;34m=\u001b[0m \u001b[0mself\u001b[0m\u001b[0;34m.\u001b[0m\u001b[0mepochs\u001b[0m\u001b[0;34m,\u001b[0m\u001b[0;34m\u001b[0m\u001b[0m\n\u001b[1;32m     61\u001b[0m                     \u001b[0muse_multiprocessing\u001b[0m \u001b[0;34m=\u001b[0m \u001b[0;32mTrue\u001b[0m\u001b[0;34m,\u001b[0m\u001b[0;34m\u001b[0m\u001b[0m\n\u001b[0;32m---> 62\u001b[0;31m                     callbacks = self.callbacks)\n\u001b[0m\u001b[1;32m     63\u001b[0m         \u001b[0;31m# clear save paths to avoid overwriting accidentaly\u001b[0m\u001b[0;34m\u001b[0m\u001b[0;34m\u001b[0m\u001b[0m\n\u001b[1;32m     64\u001b[0m         \u001b[0mself\u001b[0m\u001b[0;34m.\u001b[0m\u001b[0msaveName\u001b[0m \u001b[0;34m=\u001b[0m \u001b[0;32mNone\u001b[0m\u001b[0;34m\u001b[0m\u001b[0m\n",
      "\u001b[0;32m~/anaconda3/lib/python3.6/site-packages/keras/legacy/interfaces.py\u001b[0m in \u001b[0;36mwrapper\u001b[0;34m(*args, **kwargs)\u001b[0m\n\u001b[1;32m     89\u001b[0m                 warnings.warn('Update your `' + object_name +\n\u001b[1;32m     90\u001b[0m                               '` call to the Keras 2 API: ' + signature, stacklevel=2)\n\u001b[0;32m---> 91\u001b[0;31m             \u001b[0;32mreturn\u001b[0m \u001b[0mfunc\u001b[0m\u001b[0;34m(\u001b[0m\u001b[0;34m*\u001b[0m\u001b[0margs\u001b[0m\u001b[0;34m,\u001b[0m \u001b[0;34m**\u001b[0m\u001b[0mkwargs\u001b[0m\u001b[0;34m)\u001b[0m\u001b[0;34m\u001b[0m\u001b[0m\n\u001b[0m\u001b[1;32m     92\u001b[0m         \u001b[0mwrapper\u001b[0m\u001b[0;34m.\u001b[0m\u001b[0m_original_function\u001b[0m \u001b[0;34m=\u001b[0m \u001b[0mfunc\u001b[0m\u001b[0;34m\u001b[0m\u001b[0m\n\u001b[1;32m     93\u001b[0m         \u001b[0;32mreturn\u001b[0m \u001b[0mwrapper\u001b[0m\u001b[0;34m\u001b[0m\u001b[0m\n",
      "\u001b[0;32m~/anaconda3/lib/python3.6/site-packages/keras/engine/training.py\u001b[0m in \u001b[0;36mfit_generator\u001b[0;34m(self, generator, steps_per_epoch, epochs, verbose, callbacks, validation_data, validation_steps, class_weight, max_queue_size, workers, use_multiprocessing, shuffle, initial_epoch)\u001b[0m\n\u001b[1;32m   1424\u001b[0m             \u001b[0muse_multiprocessing\u001b[0m\u001b[0;34m=\u001b[0m\u001b[0muse_multiprocessing\u001b[0m\u001b[0;34m,\u001b[0m\u001b[0;34m\u001b[0m\u001b[0m\n\u001b[1;32m   1425\u001b[0m             \u001b[0mshuffle\u001b[0m\u001b[0;34m=\u001b[0m\u001b[0mshuffle\u001b[0m\u001b[0;34m,\u001b[0m\u001b[0;34m\u001b[0m\u001b[0m\n\u001b[0;32m-> 1426\u001b[0;31m             initial_epoch=initial_epoch)\n\u001b[0m\u001b[1;32m   1427\u001b[0m \u001b[0;34m\u001b[0m\u001b[0m\n\u001b[1;32m   1428\u001b[0m     \u001b[0;34m@\u001b[0m\u001b[0minterfaces\u001b[0m\u001b[0;34m.\u001b[0m\u001b[0mlegacy_generator_methods_support\u001b[0m\u001b[0;34m\u001b[0m\u001b[0m\n",
      "\u001b[0;32m~/anaconda3/lib/python3.6/site-packages/keras/engine/training_generator.py\u001b[0m in \u001b[0;36mfit_generator\u001b[0;34m(model, generator, steps_per_epoch, epochs, verbose, callbacks, validation_data, validation_steps, class_weight, max_queue_size, workers, use_multiprocessing, shuffle, initial_epoch)\u001b[0m\n\u001b[1;32m    189\u001b[0m                 outs = model.train_on_batch(x, y,\n\u001b[1;32m    190\u001b[0m                                             \u001b[0msample_weight\u001b[0m\u001b[0;34m=\u001b[0m\u001b[0msample_weight\u001b[0m\u001b[0;34m,\u001b[0m\u001b[0;34m\u001b[0m\u001b[0m\n\u001b[0;32m--> 191\u001b[0;31m                                             class_weight=class_weight)\n\u001b[0m\u001b[1;32m    192\u001b[0m \u001b[0;34m\u001b[0m\u001b[0m\n\u001b[1;32m    193\u001b[0m                 \u001b[0;32mif\u001b[0m \u001b[0;32mnot\u001b[0m \u001b[0misinstance\u001b[0m\u001b[0;34m(\u001b[0m\u001b[0mouts\u001b[0m\u001b[0;34m,\u001b[0m \u001b[0mlist\u001b[0m\u001b[0;34m)\u001b[0m\u001b[0;34m:\u001b[0m\u001b[0;34m\u001b[0m\u001b[0m\n",
      "\u001b[0;32m~/anaconda3/lib/python3.6/site-packages/keras/engine/training.py\u001b[0m in \u001b[0;36mtrain_on_batch\u001b[0;34m(self, x, y, sample_weight, class_weight)\u001b[0m\n\u001b[1;32m   1218\u001b[0m             \u001b[0mins\u001b[0m \u001b[0;34m=\u001b[0m \u001b[0mx\u001b[0m \u001b[0;34m+\u001b[0m \u001b[0my\u001b[0m \u001b[0;34m+\u001b[0m \u001b[0msample_weights\u001b[0m\u001b[0;34m\u001b[0m\u001b[0m\n\u001b[1;32m   1219\u001b[0m         \u001b[0mself\u001b[0m\u001b[0;34m.\u001b[0m\u001b[0m_make_train_function\u001b[0m\u001b[0;34m(\u001b[0m\u001b[0;34m)\u001b[0m\u001b[0;34m\u001b[0m\u001b[0m\n\u001b[0;32m-> 1220\u001b[0;31m         \u001b[0moutputs\u001b[0m \u001b[0;34m=\u001b[0m \u001b[0mself\u001b[0m\u001b[0;34m.\u001b[0m\u001b[0mtrain_function\u001b[0m\u001b[0;34m(\u001b[0m\u001b[0mins\u001b[0m\u001b[0;34m)\u001b[0m\u001b[0;34m\u001b[0m\u001b[0m\n\u001b[0m\u001b[1;32m   1221\u001b[0m         \u001b[0;32mif\u001b[0m \u001b[0mlen\u001b[0m\u001b[0;34m(\u001b[0m\u001b[0moutputs\u001b[0m\u001b[0;34m)\u001b[0m \u001b[0;34m==\u001b[0m \u001b[0;36m1\u001b[0m\u001b[0;34m:\u001b[0m\u001b[0;34m\u001b[0m\u001b[0m\n\u001b[1;32m   1222\u001b[0m             \u001b[0;32mreturn\u001b[0m \u001b[0moutputs\u001b[0m\u001b[0;34m[\u001b[0m\u001b[0;36m0\u001b[0m\u001b[0;34m]\u001b[0m\u001b[0;34m\u001b[0m\u001b[0m\n",
      "\u001b[0;32m~/anaconda3/lib/python3.6/site-packages/keras/backend/tensorflow_backend.py\u001b[0m in \u001b[0;36m__call__\u001b[0;34m(self, inputs)\u001b[0m\n\u001b[1;32m   2659\u001b[0m                 \u001b[0;32mreturn\u001b[0m \u001b[0mself\u001b[0m\u001b[0;34m.\u001b[0m\u001b[0m_legacy_call\u001b[0m\u001b[0;34m(\u001b[0m\u001b[0minputs\u001b[0m\u001b[0;34m)\u001b[0m\u001b[0;34m\u001b[0m\u001b[0m\n\u001b[1;32m   2660\u001b[0m \u001b[0;34m\u001b[0m\u001b[0m\n\u001b[0;32m-> 2661\u001b[0;31m             \u001b[0;32mreturn\u001b[0m \u001b[0mself\u001b[0m\u001b[0;34m.\u001b[0m\u001b[0m_call\u001b[0m\u001b[0;34m(\u001b[0m\u001b[0minputs\u001b[0m\u001b[0;34m)\u001b[0m\u001b[0;34m\u001b[0m\u001b[0m\n\u001b[0m\u001b[1;32m   2662\u001b[0m         \u001b[0;32melse\u001b[0m\u001b[0;34m:\u001b[0m\u001b[0;34m\u001b[0m\u001b[0m\n\u001b[1;32m   2663\u001b[0m             \u001b[0;32mif\u001b[0m \u001b[0mpy_any\u001b[0m\u001b[0;34m(\u001b[0m\u001b[0mis_tensor\u001b[0m\u001b[0;34m(\u001b[0m\u001b[0mx\u001b[0m\u001b[0;34m)\u001b[0m \u001b[0;32mfor\u001b[0m \u001b[0mx\u001b[0m \u001b[0;32min\u001b[0m \u001b[0minputs\u001b[0m\u001b[0;34m)\u001b[0m\u001b[0;34m:\u001b[0m\u001b[0;34m\u001b[0m\u001b[0m\n",
      "\u001b[0;32m~/anaconda3/lib/python3.6/site-packages/keras/backend/tensorflow_backend.py\u001b[0m in \u001b[0;36m_call\u001b[0;34m(self, inputs)\u001b[0m\n\u001b[1;32m   2612\u001b[0m                 array_vals.append(\n\u001b[1;32m   2613\u001b[0m                     np.asarray(value,\n\u001b[0;32m-> 2614\u001b[0;31m                                dtype=tensor.dtype.base_dtype.name))\n\u001b[0m\u001b[1;32m   2615\u001b[0m         \u001b[0;32mif\u001b[0m \u001b[0mself\u001b[0m\u001b[0;34m.\u001b[0m\u001b[0mfeed_dict\u001b[0m\u001b[0;34m:\u001b[0m\u001b[0;34m\u001b[0m\u001b[0m\n\u001b[1;32m   2616\u001b[0m             \u001b[0;32mfor\u001b[0m \u001b[0mkey\u001b[0m \u001b[0;32min\u001b[0m \u001b[0msorted\u001b[0m\u001b[0;34m(\u001b[0m\u001b[0mself\u001b[0m\u001b[0;34m.\u001b[0m\u001b[0mfeed_dict\u001b[0m\u001b[0;34m.\u001b[0m\u001b[0mkeys\u001b[0m\u001b[0;34m(\u001b[0m\u001b[0;34m)\u001b[0m\u001b[0;34m)\u001b[0m\u001b[0;34m:\u001b[0m\u001b[0;34m\u001b[0m\u001b[0m\n",
      "\u001b[0;32m~/anaconda3/lib/python3.6/site-packages/numpy/core/numeric.py\u001b[0m in \u001b[0;36masarray\u001b[0;34m(a, dtype, order)\u001b[0m\n\u001b[1;32m    490\u001b[0m \u001b[0;34m\u001b[0m\u001b[0m\n\u001b[1;32m    491\u001b[0m     \"\"\"\n\u001b[0;32m--> 492\u001b[0;31m     \u001b[0;32mreturn\u001b[0m \u001b[0marray\u001b[0m\u001b[0;34m(\u001b[0m\u001b[0ma\u001b[0m\u001b[0;34m,\u001b[0m \u001b[0mdtype\u001b[0m\u001b[0;34m,\u001b[0m \u001b[0mcopy\u001b[0m\u001b[0;34m=\u001b[0m\u001b[0;32mFalse\u001b[0m\u001b[0;34m,\u001b[0m \u001b[0morder\u001b[0m\u001b[0;34m=\u001b[0m\u001b[0morder\u001b[0m\u001b[0;34m)\u001b[0m\u001b[0;34m\u001b[0m\u001b[0m\n\u001b[0m\u001b[1;32m    493\u001b[0m \u001b[0;34m\u001b[0m\u001b[0m\n\u001b[1;32m    494\u001b[0m \u001b[0;34m\u001b[0m\u001b[0m\n",
      "\u001b[0;31mKeyboardInterrupt\u001b[0m: "
     ]
    }
   ],
   "source": [
    "modelTrainer.train()"
   ]
  },
  {
   "cell_type": "markdown",
   "metadata": {},
   "source": [
    "### Train multi-class model for another epoch"
   ]
  },
  {
   "cell_type": "code",
   "execution_count": 3,
   "metadata": {},
   "outputs": [],
   "source": [
    "modelTrainer.changeBatchLogInterval(5)\n",
    "modelTrainer.changeEpochs(1)\n",
    "modelTrainer.changeDropout(0.6)\n",
    "modelTrainer.setWeightInitializer('he_normal')\n",
    "modelTrainer.changeBatchSize(36)\n",
    "modelTrainer.setClassMap(classMap)\n",
    "modelTrainer.setOptimizerParams(lr = 1.0*(10**-8),momentum = 0,decay =0)\n",
    "modelTrainer.setSaveName(\"smallMulticlassNetworkEpoch2\")"
   ]
  },
  {
   "cell_type": "code",
   "execution_count": 4,
   "metadata": {},
   "outputs": [
    {
     "name": "stdout",
     "output_type": "stream",
     "text": [
      "----------Model Parameters----------\n",
      "Initial Conv. Depth : 32\n",
      "Number of Classes   : 4\n",
      "Dropout             : 0.6\n",
      "Activation Function : Relu\n",
      "Input Shape         : (256, 256, 3)\n",
      "Batch Size          : 36\n",
      "--------Optimizer Parameters--------\n",
      "Learning Rate : <tf.Variable 'SGD/lr:0' shape=() dtype=float32_ref>\n",
      "Momentum      : <tf.Variable 'SGD/momentum:0' shape=() dtype=float32_ref>\n",
      "Initial Decay : 0\n",
      "Epoch 1/1\n",
      " 989/9115 [==>...........................] - ETA: 3:49:44 - loss: 0.3777 - acc: 0.8524 - recall: 0.8011 - precision: 0.9056 - f1Score: 0.85001000\n",
      "1989/9115 [=====>........................] - ETA: 3:21:04 - loss: 0.3967 - acc: 0.8443 - recall: 0.7907 - precision: 0.9004 - f1Score: 0.84182000\n",
      "2989/9115 [========>.....................] - ETA: 2:52:47 - loss: 0.3955 - acc: 0.8442 - recall: 0.7906 - precision: 0.9004 - f1Score: 0.84183000\n",
      "3989/9115 [============>.................] - ETA: 2:24:30 - loss: 0.3924 - acc: 0.8456 - recall: 0.7921 - precision: 0.9014 - f1Score: 0.84304000\n",
      "4989/9115 [===============>..............] - ETA: 1:56:17 - loss: 0.3929 - acc: 0.8454 - recall: 0.7919 - precision: 0.9011 - f1Score: 0.84285000\n",
      "5989/9115 [==================>...........] - ETA: 1:28:05 - loss: 0.3922 - acc: 0.8460 - recall: 0.7925 - precision: 0.9014 - f1Score: 0.84336000\n",
      "6989/9115 [======================>.......] - ETA: 59:54 - loss: 0.3908 - acc: 0.8462 - recall: 0.7932 - precision: 0.9013 - f1Score: 0.84377000\n",
      "7989/9115 [=========================>....] - ETA: 31:43 - loss: 0.3913 - acc: 0.8461 - recall: 0.7930 - precision: 0.9014 - f1Score: 0.84368000\n",
      "8989/9115 [============================>.] - ETA: 3:32 - loss: 0.3915 - acc: 0.8461 - recall: 0.7931 - precision: 0.9013 - f1Score: 0.84369000\n",
      "9114/9115 [============================>.] - ETA: 1s - loss: 0.3918 - acc: 0.8460 - recall: 0.7930 - precision: 0.9011 - f1Score: 0.84351000\n",
      "9115/9115 [==============================] - 16374s 2s/step - loss: 0.3918 - acc: 0.8460 - recall: 0.7930 - precision: 0.9011 - f1Score: 0.8435 - val_loss: 0.3987 - val_acc: 0.8423 - val_recall: 0.7895 - val_precision: 0.8998 - val_f1Score: 0.8409\n",
      "\n",
      "Epoch 00001: saving model to /home/ubuntu/project/model_checkpoints/unet//smallMulticlassNetworkEpoch2.hdf5\n"
     ]
    }
   ],
   "source": [
    "modelTrainer.trainMore(model_path + \"/smallMulticlassNetwork.hdf5\")"
   ]
  },
  {
   "cell_type": "code",
   "execution_count": null,
   "metadata": {},
   "outputs": [],
   "source": [
    "### Train Large Multi-class Network"
   ]
  },
  {
   "cell_type": "code",
   "execution_count": 12,
   "metadata": {},
   "outputs": [
    {
     "data": {
      "image/png": "[encoded data removed]",
      "text/plain": [
       "<Figure size 432x288 with 2 Axes>"
      ]
     },
     "metadata": {},
     "output_type": "display_data"
    }
   ],
   "source": [
    "classMap = {\n",
    "    'maize' : 1,\n",
    "    'maizevariety': 1,\n",
    "    'wheat': 2,\n",
    "    'mungbean': 3\n",
    "}\n",
    "\n",
    "modelTrainer.changeBatchLogInterval(5)\n",
    "modelTrainer.changeEpochs(1)\n",
    "modelTrainer.changeDropout(0.6)\n",
    "modelTrainer.setWeightInitializer('he_normal')\n",
    "modelTrainer.changeConvolutionalDepth(64)\n",
    "modelTrainer.changeBatchSize(36)\n",
    "modelTrainer.setClassMap(classMap)\n",
    "modelTrainer.setOptimizerParams(lr = 1.0*(10**-4),momentum = 0.9,decay = 1.0*(10**-10))\n",
    "modelTrainer.setSaveName(\"multiclassNetwork\")"
   ]
  },
  {
   "cell_type": "markdown",
   "metadata": {},
   "source": [
    "### Train a Smaller multiclass model"
   ]
  }
 ],
 "metadata": {
  "kernelspec": {
   "display_name": "Python [default]",
   "language": "python",
   "name": "python3"
  },
  "language_info": {
   "codemirror_mode": {
    "name": "ipython",
    "version": 3
   },
   "file_extension": ".py",
   "mimetype": "text/x-python",
   "name": "python",
   "nbconvert_exporter": "python",
   "pygments_lexer": "ipython3",
   "version": "3.6.4"
  }
 },
 "nbformat": 4,
 "nbformat_minor": 2
}
