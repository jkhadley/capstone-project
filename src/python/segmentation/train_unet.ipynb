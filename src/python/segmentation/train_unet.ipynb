{
 "cells": [
  {
   "cell_type": "markdown",
   "metadata": {},
   "source": [
    "### Import Libraries"
   ]
  },
  {
   "cell_type": "code",
   "execution_count": 2,
   "metadata": {},
   "outputs": [
    {
     "name": "stderr",
     "output_type": "stream",
     "text": [
      "C:\\Users\\jkhad\\Anaconda3\\lib\\site-packages\\h5py\\__init__.py:36: FutureWarning: Conversion of the second argument of issubdtype from `float` to `np.floating` is deprecated. In future, it will be treated as `np.float64 == np.dtype(float).type`.\n",
      "  from ._conv import register_converters as _register_converters\n",
      "Using TensorFlow backend.\n"
     ]
    }
   ],
   "source": [
    "from setupGenerators import *\n",
    "from unet_keras import unet\n",
    "from keras.callbacks import ModelCheckpoint,CSVLogger\n",
    "import matplotlib.pyplot as plt\n",
    "import pandas as pd\n",
    "import numpy as np\n",
    "import os\n",
    "from copy import deepcopy\n",
    "from scipy.ndimage import rotate\n",
    "plt.rcParams['figure.figsize'] = [10, 5]"
   ]
  },
  {
   "cell_type": "markdown",
   "metadata": {},
   "source": [
    "### Common Variables"
   ]
  },
  {
   "cell_type": "code",
   "execution_count": null,
   "metadata": {},
   "outputs": [],
   "source": [
    "# path to data on aws\n",
    "path = \"/home/ubuntu/project/data/\"\n",
    "model_path = \"/home/ubuntu/project/model_checkpoints/\"\n",
    "# Firm Training variables\n",
    "width = 256\n",
    "height = 256\n",
    "input_shape = (width,height,3)\n",
    "\n",
    "# get length of the training and validation sets\n",
    "train_size = len(os.listdir(path + '/train'))\n",
    "validate_size = len(os.listdir(path + '/validate'))\n"
   ]
  },
  {
   "cell_type": "markdown",
   "metadata": {},
   "source": [
    "### Training Parameters"
   ]
  },
  {
   "cell_type": "code",
   "execution_count": 2,
   "metadata": {},
   "outputs": [],
   "source": [
    "# path to data on aws\n",
    "path = \"../../data/size1/\"\n",
    "\n",
    "# Firm Training variables\n",
    "input_shape = (2048,1152,3)\n",
    "# Variables to tweak\n",
    "steps_per_epoch = 200\n",
    "epochs = 5\n",
    "batch_size = 5\n",
    "\n",
    "# define parameters to build the model\n",
    "params = {\n",
    "    'n_classes' : 1,\n",
    "    'optimizer' : 'sgd',\n",
    "    'lr' : 0.01,\n",
    "    'dropout' : 0.5,\n",
    "    'conv_depth' : 2,\n",
    "    'input_shape' : input_shape,\n",
    "    'activation' : \"relu\",\n",
    "    'init_w' : \"he_normal\",\n",
    "    'output_activation' = 'sigmoid'\n",
    "}"
   ]
  },
  {
   "cell_type": "markdown",
   "metadata": {},
   "source": [
    "### Load in Model and Generator"
   ]
  },
  {
   "cell_type": "code",
   "execution_count": 3,
   "metadata": {},
   "outputs": [
    {
     "name": "stderr",
     "output_type": "stream",
     "text": [
      "/home/ubuntu/project/src/segmentation/unet_keras.py:126: UserWarning: Update your `Model` call to the Keras 2 API: `Model(inputs=Tensor(\"in..., outputs=Tensor(\"co...)`\n",
      "  model = Model(input = inputs,output = outputs)\n"
     ]
    }
   ],
   "source": [
    "# load in model \n",
    "model = unet(params)\n",
    "# initialize generator\n",
    "trainGenerator = generateData(path,\"train\",save_dir = False,batch_size = batch_size)\n",
    "validateGenerator = generateData(path,\"validate\",save_dir = False,batch_size = batch_size)"
   ]
  },
  {
   "cell_type": "markdown",
   "metadata": {},
   "source": [
    "### Train Model"
   ]
  },
  {
   "cell_type": "markdown",
   "metadata": {},
   "source": [
    "This model takes images of size 2048 x 1152 as inputs. This causes the convolutional layers to be shallow because the model and images cannot be fit into the RAM of the graphics card otherwise"
   ]
  },
  {
   "cell_type": "code",
   "execution_count": null,
   "metadata": {},
   "outputs": [
    {
     "name": "stdout",
     "output_type": "stream",
     "text": [
      "Found 1011 images belonging to 1 classes.\n",
      "Found 1011 images belonging to 1 classes.\n",
      "Epoch 1/5\n",
      "199/200 [============================>.] - ETA: 4s - loss: 0.4980 - acc: 0.8813Found 168 images belonging to 1 classes.\n",
      "Found 168 images belonging to 1 classes.\n",
      "200/200 [==============================] - 1660s 8s/step - loss: 0.4974 - acc: 0.8814 - val_loss: 0.3960 - val_acc: 0.8839\n",
      "\n",
      "Epoch 00001: loss improved from inf to 0.49735, saving model to ../../data/size1//models/unet_train.hdf5\n",
      "Epoch 2/5\n",
      "199/200 [============================>.] - ETA: 4s - loss: 0.3769 - acc: 0.8827Found 168 images belonging to 1 classes.\n",
      "Found 168 images belonging to 1 classes.\n",
      "200/200 [==============================] - 1614s 8s/step - loss: 0.3766 - acc: 0.8828 - val_loss: 0.3640 - val_acc: 0.8839\n",
      "\n",
      "Epoch 00002: loss improved from 0.49735 to 0.37694, saving model to ../../data/size1//models/unet_train.hdf5\n",
      "Epoch 3/5\n",
      "199/200 [============================>.] - ETA: 4s - loss: 0.3582 - acc: 0.8856Found 168 images belonging to 1 classes.\n",
      "Found 168 images belonging to 1 classes.\n",
      "200/200 [==============================] - 1605s 8s/step - loss: 0.3582 - acc: 0.8856 - val_loss: 0.3599 - val_acc: 0.8839\n",
      "\n",
      "Epoch 00003: loss improved from 0.37694 to 0.35873, saving model to ../../data/size1//models/unet_train.hdf5\n",
      "Epoch 4/5\n",
      "172/200 [========================>.....] - ETA: 1:59 - loss: 0.3699 - acc: 0.8786"
     ]
    }
   ],
   "source": [
    "model_checkpoint = ModelCheckpoint(path + '/models/unet_train.hdf5', monitor='loss',verbose=1, save_best_only=True)\n",
    "logger = CSVLogger(path + \"/models/unet.csv\")\n",
    "output = model.fit_generator(generator = trainGenerator,\n",
    "                    validation_data = validateGenerator,\n",
    "                    steps_per_epoch = steps_per_epoch,\n",
    "                    validation_steps = 160,\n",
    "                    epochs = epochs,\n",
    "                    use_multiprocessing = True,\n",
    "                    callbacks =[model_checkpoint, logger])"
   ]
  },
  {
   "cell_type": "code",
   "execution_count": 4,
   "metadata": {},
   "outputs": [
    {
     "name": "stderr",
     "output_type": "stream",
     "text": [
      "/home/ubuntu/project/src/segmentation/unet_keras.py:126: UserWarning: Update your `Model` call to the Keras 2 API: `Model(inputs=Tensor(\"in..., outputs=Tensor(\"co...)`\n",
      "  model = Model(input = inputs,output = outputs)\n"
     ]
    },
    {
     "name": "stdout",
     "output_type": "stream",
     "text": [
      "Found 1011 images belonging to 1 classes.\n",
      "Found 1011 images belonging to 1 classes.\n",
      "Epoch 1/1\n",
      "199/200 [============================>.] - ETA: 4s - loss: 0.3610 - acc: 0.8831Found 168 images belonging to 1 classes.\n",
      "Found 168 images belonging to 1 classes.\n",
      "200/200 [==============================] - 1644s 8s/step - loss: 0.3608 - acc: 0.8832 - val_loss: 0.3593 - val_acc: 0.8839\n",
      "\n",
      "Epoch 00001: loss improved from inf to 0.36081, saving model to ../../data/size1//models/unet_train.hdf5\n"
     ]
    }
   ],
   "source": [
    "# Do more training\n",
    "params = {\n",
    "    'n_classes' : 2,\n",
    "    'lr' : 0.01,\n",
    "    'dropout' : 0.5,\n",
    "    'conv_depth' : 2,\n",
    "    'input_shape' : (2048,1152,3),\n",
    "    'activation' : \"relu\",\n",
    "    'init_w' : \"he_normal\",\n",
    "    'old_weights' : path + \"/models/unet_train.hdf5\"\n",
    "}\n",
    "model = unet(params)\n",
    "model_checkpoint = ModelCheckpoint(path + '/models/unet_train.hdf5', monitor='loss',verbose=1, save_best_only=True)\n",
    "logger = CSVLogger(path + \"/models/unet.csv\")\n",
    "output = model.fit_generator(generator = trainGenerator,\n",
    "                    validation_data = validateGenerator,\n",
    "                    steps_per_epoch = steps_per_epoch,\n",
    "                    validation_steps = 160,\n",
    "                    epochs = 1,\n",
    "                    use_multiprocessing = True,\n",
    "                    callbacks =[model_checkpoint, logger])"
   ]
  },
  {
   "cell_type": "markdown",
   "metadata": {},
   "source": [
    "### Train on Split images"
   ]
  },
  {
   "cell_type": "code",
   "execution_count": 8,
   "metadata": {},
   "outputs": [],
   "source": [
    "# path to data on aws\n",
    "path = \"/home/ubuntu/project/data/\"\n",
    "\n",
    "# Firm Training variables\n",
    "input_shape = (256,256,3)\n",
    "\n",
    "# get length of the training and validation sets\n",
    "train_size = len(os.listdir(path + '/train/data'))\n",
    "validate_size = len(os.listdir(path + '/validate/data'))\n",
    "\n",
    "# Variables to tweak\n",
    "epochs = 5\n",
    "batch_size = 15\n",
    "steps_per_epoch = round(train_size/batch_size)\n",
    "validation_steps = round(validate_size/batch_size)\n",
    "\n",
    "\n",
    "# define parameters to build the model\n",
    "params = {\n",
    "    'n_classes' : 1,\n",
    "    'lr' : 0.01,\n",
    "    'optimizer' : 'SGD',\n",
    "    'loss': 'binary_crossentropy',\n",
    "    'dropout' : 0.0,\n",
    "    'conv_depth' : 64,\n",
    "    'input_shape' : input_shape,\n",
    "    'activation' : \"relu\",\n",
    "    'init_w' : \"he_normal\",\n",
    "    'output_activation': 'sigmoid'\n",
    "}\n",
    "trainGenParams = {\n",
    "    'path' : path,\n",
    "    'which_data': 'train',\n",
    "    'n_classes' : 1,\n",
    "    'batch_size': batch_size,\n",
    "    'target_size': (256,256)\n",
    "}\n",
    "\n",
    "validateGenParams = {\n",
    "    'path' : path,\n",
    "    'which_data': 'validate',\n",
    "    'n_classes' : 1,\n",
    "    'batch_size': batch_size,\n",
    "    'target_size': (256,256)\n",
    "}\n",
    "\n",
    "m_checkpoint = model_path + 'unet/unet_train_all_reshaped.hdf5'\n",
    "log_checkpoint = model_path + 'unet/unet_all_reshaped.csv'"
   ]
  },
  {
   "cell_type": "code",
   "execution_count": 4,
   "metadata": {
    "scrolled": true
   },
   "outputs": [
    {
     "name": "stdout",
     "output_type": "stream",
     "text": [
      "Found 22150 images belonging to 1 classes.\n",
      "Epoch 1/5\n",
      "Found 22150 images belonging to 1 classes.\n",
      "1332/1333 [============================>.] - ETA: 1s - loss: 0.1678 - acc: 0.9348Found 3496 images belonging to 1 classes.\n",
      "Found 3496 images belonging to 1 classes.\n",
      "1333/1333 [==============================] - 1896s 1s/step - loss: 0.1677 - acc: 0.9348 - val_loss: 0.0942 - val_acc: 0.9626\n",
      "\n",
      "Epoch 00001: loss improved from inf to 0.16771, saving model to /home/ubuntu/project/data/size1/models/unet_train_all_reshaped.hdf5\n",
      "Epoch 2/5\n",
      "1332/1333 [============================>.] - ETA: 1s - loss: 0.0940 - acc: 0.9624Found 3496 images belonging to 1 classes.\n",
      "Found 3496 images belonging to 1 classes.\n",
      "1333/1333 [==============================] - 1891s 1s/step - loss: 0.0940 - acc: 0.9624 - val_loss: 0.0869 - val_acc: 0.9649\n",
      "\n",
      "Epoch 00002: loss improved from 0.16771 to 0.09404, saving model to /home/ubuntu/project/data/size1/models/unet_train_all_reshaped.hdf5\n",
      "Epoch 3/5\n",
      "1332/1333 [============================>.] - ETA: 1s - loss: 0.0904 - acc: 0.9637Found 3496 images belonging to 1 classes.\n",
      "Found 3496 images belonging to 1 classes.\n",
      "1333/1333 [==============================] - 1888s 1s/step - loss: 0.0904 - acc: 0.9637 - val_loss: 0.0941 - val_acc: 0.9623\n",
      "\n",
      "Epoch 00003: loss improved from 0.09404 to 0.09038, saving model to /home/ubuntu/project/data/size1/models/unet_train_all_reshaped.hdf5\n",
      "Epoch 4/5\n",
      "1332/1333 [============================>.] - ETA: 1s - loss: 0.0884 - acc: 0.9643Found 3496 images belonging to 1 classes.\n",
      "Found 3496 images belonging to 1 classes.\n",
      "1333/1333 [==============================] - 1888s 1s/step - loss: 0.0884 - acc: 0.9643 - val_loss: 0.0848 - val_acc: 0.9657\n",
      "\n",
      "Epoch 00004: loss improved from 0.09038 to 0.08844, saving model to /home/ubuntu/project/data/size1/models/unet_train_all_reshaped.hdf5\n",
      "Epoch 5/5\n",
      "1332/1333 [============================>.] - ETA: 1s - loss: 0.0878 - acc: 0.9647Found 3496 images belonging to 1 classes.\n",
      "Found 3496 images belonging to 1 classes.\n",
      "1333/1333 [==============================] - 1888s 1s/step - loss: 0.0878 - acc: 0.9647 - val_loss: 0.0871 - val_acc: 0.9648\n",
      "\n",
      "Epoch 00005: loss improved from 0.08844 to 0.08777, saving model to /home/ubuntu/project/data/size1/models/unet_train_all_reshaped.hdf5\n"
     ]
    }
   ],
   "source": [
    "# define the callbacks\n",
    "model_checkpoint = ModelCheckpoint(m_checkpoint, monitor='loss',verbose=1, save_best_only=True)\n",
    "logger = CSVLogger(log_checkpoint)\n",
    "# create generators and model\n",
    "trainGenerator = generateData(trainGenParams)\n",
    "validateGenerator = generateData(validateGenParams)\n",
    "model = unet(params)\n",
    "# fit generators to the model\n",
    "output = model.fit_generator(generator = trainGenerator,\n",
    "                    validation_data = validateGenerator,\n",
    "                    steps_per_epoch = steps_per_epoch,\n",
    "                    validation_steps = validation_steps,\n",
    "                    epochs = epochs,\n",
    "                    use_multiprocessing = True,\n",
    "                    callbacks =[model_checkpoint, logger])"
   ]
  },
  {
   "cell_type": "markdown",
   "metadata": {},
   "source": [
    "### Plot the Errors"
   ]
  },
  {
   "cell_type": "code",
   "execution_count": 17,
   "metadata": {},
   "outputs": [
    {
     "data": {
      "image/png": "[encoded data removed]",
      "text/plain": [
       "<Figure size 720x360 with 2 Axes>"
      ]
     },
     "metadata": {},
     "output_type": "display_data"
    }
   ],
   "source": [
    "# read in the csv with the results\n",
    "df = pd.read_csv('../../../model_checkpoints/unet_all_reshaped.csv')\n",
    "plt.subplot(121)\n",
    "plt.plot(df['epoch'],df['acc'], label = \"Train\")\n",
    "plt.plot(df['epoch'],df['val_acc'],label = \"Validation\")\n",
    "plt.title(\"Accuracy\")\n",
    "plt.ylabel(\"Accuracy\")\n",
    "plt.xlabel('Epoch')\n",
    "plt.legend()\n",
    "plt.grid()\n",
    "\n",
    "plt.subplot(122)\n",
    "plt.plot(df['epoch'],df['loss'], label = \"Train\")\n",
    "plt.plot(df['epoch'],df['val_loss'],label = \"Validation\")\n",
    "plt.title(\"Loss\")\n",
    "plt.ylabel(\"Loss\")\n",
    "plt.xlabel('Epoch')\n",
    "plt.legend()\n",
    "plt.grid()\n",
    "\n",
    "plt.show()"
   ]
  },
  {
   "cell_type": "markdown",
   "metadata": {},
   "source": [
    "The training accuracy and loss seem to be higher than the validation loss. This is because the training error is the average over all of the samples while training the model, where as the validation is the error on the validation samples after all of the training for the epoch was done. This plot also shows that more epochs will likely not help very much since the training error and loss reach a plateau. "
   ]
  },
  {
   "cell_type": "markdown",
   "metadata": {},
   "source": [
    "### Try adding dropout"
   ]
  },
  {
   "cell_type": "code",
   "execution_count": 9,
   "metadata": {},
   "outputs": [],
   "source": [
    "# Variables to tweak\n",
    "epochs = 5\n",
    "batch_size = 15\n",
    "steps_per_epoch = round(train_size/batch_size)\n",
    "validation_steps = round(validate_size/batch_size)\n",
    "\n",
    "# define parameters to build the model\n",
    "params = {\n",
    "    'n_classes' : 1,\n",
    "    'lr' : 0.01,\n",
    "    'optimizer' : 'sgd',\n",
    "    'loss': 'binary_crossentropy',\n",
    "    'dropout' : 0.5,\n",
    "    'conv_depth' : 64,\n",
    "    'input_shape' : input_shape,\n",
    "    'activation' : \"relu\",\n",
    "    'init_w' : \"he_normal\",\n",
    "    'output_activation': 'sigmoid'\n",
    "}\n",
    "\n",
    "trainGenParams = {\n",
    "    'path' : path,\n",
    "    'which_data': 'train',\n",
    "    'n_classes' : 1,\n",
    "    'batch_size': batch_size,\n",
    "    'target_size': (256,256)\n",
    "}\n",
    "\n",
    "validateGenParams = {\n",
    "    'path' : path,\n",
    "    'which_data': 'validate',\n",
    "    'n_classes' : 1,\n",
    "    'batch_size': batch_size,\n",
    "    'target_size': (256,256)\n",
    "}\n",
    "\n",
    "m_checkpoint = model_path + 'unet/unet_reshaped_dropout.hdf5'\n",
    "log_checkpoint = model_path + 'unet/unet_reshaped_dropout.csv'"
   ]
  },
  {
   "cell_type": "code",
   "execution_count": 13,
   "metadata": {},
   "outputs": [
    {
     "name": "stdout",
     "output_type": "stream",
     "text": [
      "Found 22150 images belonging to 1 classes.\n",
      "Epoch 1/5\n",
      "Found 22150 images belonging to 1 classes.\n",
      "1476/1477 [============================>.] - ETA: 1s - loss: 0.1650 - acc: 0.9363Found 3496 images belonging to 1 classes.\n",
      "Found 3496 images belonging to 1 classes.\n",
      "1477/1477 [==============================] - 2149s 1s/step - loss: 0.1650 - acc: 0.9363 - val_loss: 0.0911 - val_acc: 0.9634\n",
      "\n",
      "Epoch 00001: loss improved from inf to 0.16501, saving model to ../../model_checkpoints/unet/unet_reshaped_dropout.hdf5\n",
      "Epoch 2/5\n",
      "1476/1477 [============================>.] - ETA: 1s - loss: 0.0927 - acc: 0.9628Found 3496 images belonging to 1 classes.\n",
      "Found 3496 images belonging to 1 classes.\n",
      "1477/1477 [==============================] - 2133s 1s/step - loss: 0.0927 - acc: 0.9628 - val_loss: 0.0867 - val_acc: 0.9650\n",
      "\n",
      "Epoch 00002: loss improved from 0.16501 to 0.09268, saving model to ../../model_checkpoints/unet/unet_reshaped_dropout.hdf5\n",
      "Epoch 3/5\n",
      "1476/1477 [============================>.] - ETA: 1s - loss: 0.0893 - acc: 0.9641Found 3496 images belonging to 1 classes.\n",
      "Found 3496 images belonging to 1 classes.\n",
      "1477/1477 [==============================] - 2131s 1s/step - loss: 0.0893 - acc: 0.9641 - val_loss: 0.0868 - val_acc: 0.9648\n",
      "\n",
      "Epoch 00003: loss improved from 0.09268 to 0.08929, saving model to ../../model_checkpoints/unet/unet_reshaped_dropout.hdf5\n",
      "Epoch 4/5\n",
      "1476/1477 [============================>.] - ETA: 1s - loss: 0.0878 - acc: 0.9646Found 3496 images belonging to 1 classes.\n",
      "Found 3496 images belonging to 1 classes.\n",
      "1477/1477 [==============================] - 2133s 1s/step - loss: 0.0878 - acc: 0.9646 - val_loss: 0.0846 - val_acc: 0.9656\n",
      "\n",
      "Epoch 00004: loss improved from 0.08929 to 0.08781, saving model to ../../model_checkpoints/unet/unet_reshaped_dropout.hdf5\n",
      "Epoch 5/5\n",
      "1476/1477 [============================>.] - ETA: 1s - loss: 0.0867 - acc: 0.9650Found 3496 images belonging to 1 classes.\n",
      "Found 3496 images belonging to 1 classes.\n",
      "1477/1477 [==============================] - 2134s 1s/step - loss: 0.0867 - acc: 0.9650 - val_loss: 0.0857 - val_acc: 0.9653\n",
      "\n",
      "Epoch 00005: loss improved from 0.08781 to 0.08671, saving model to ../../model_checkpoints/unet/unet_reshaped_dropout.hdf5\n"
     ]
    }
   ],
   "source": [
    "# define the callbacks\n",
    "model_checkpoint = ModelCheckpoint(m_checkpoint, monitor='loss',verbose=1, save_best_only=True)\n",
    "logger = CSVLogger(log_checkpoint)\n",
    "# create generators and model\n",
    "trainGenerator = generateData(trainGenParams)\n",
    "validateGenerator = generateData(validateGenParams)\n",
    "model = unet(params)\n",
    "\n",
    "output = model.fit_generator(generator = trainGenerator,\n",
    "                    validation_data = validateGenerator,\n",
    "                    steps_per_epoch = steps_per_epoch,\n",
    "                    validation_steps = validation_steps,\n",
    "                    epochs = epochs,\n",
    "                    use_multiprocessing = True,\n",
    "                    callbacks =[model_checkpoint, logger])"
   ]
  },
  {
   "cell_type": "code",
   "execution_count": 4,
   "metadata": {},
   "outputs": [
    {
     "data": {
      "image/png": "[encoded data removed]",
      "text/plain": [
       "<Figure size 432x288 with 2 Axes>"
      ]
     },
     "metadata": {},
     "output_type": "display_data"
    }
   ],
   "source": [
    "# read in the csv with the results\n",
    "df = pd.read_csv('../../../model_checkpoints/unet/unet_reshaped_dropout.csv')\n",
    "plt.subplot(121)\n",
    "plt.plot(df['epoch'],df['acc'], label = \"Train\")\n",
    "plt.plot(df['epoch'],df['val_acc'],label = \"Validation\")\n",
    "plt.title(\"Accuracy\")\n",
    "plt.ylabel(\"Accuracy\")\n",
    "plt.xlabel('Epoch')\n",
    "plt.legend()\n",
    "plt.grid()\n",
    "\n",
    "plt.subplot(122)\n",
    "plt.plot(df['epoch'],df['loss'], label = \"Train\")\n",
    "plt.plot(df['epoch'],df['val_loss'],label = \"Validation\")\n",
    "plt.title(\"Loss\")\n",
    "plt.ylabel(\"Loss\")\n",
    "plt.xlabel('Epoch')\n",
    "plt.legend()\n",
    "plt.grid()\n",
    "\n",
    "plt.show()"
   ]
  },
  {
   "cell_type": "markdown",
   "metadata": {},
   "source": [
    "### Train a smaller model"
   ]
  },
  {
   "cell_type": "code",
   "execution_count": null,
   "metadata": {},
   "outputs": [],
   "source": [
    "# Variables to tweak\n",
    "epochs = 5\n",
    "batch_size = 15\n",
    "steps_per_epoch = round(train_size/batch_size)\n",
    "validation_steps = round(validate_size/batch_size)\n",
    "\n",
    "# define parameters to build the model\n",
    "params = {\n",
    "    'n_classes' : 2,\n",
    "    'lr' : 0.01,\n",
    "    'optimizer' : 'sgd',\n",
    "    'loss': 'binary_crossentropy',\n",
    "    'dropout' : 0.5,\n",
    "    'conv_depth' : 16,\n",
    "    'input_shape' : input_shape,\n",
    "    'activation' : \"relu\",\n",
    "    'init_w' : \"he_normal\"\n",
    "}\n",
    "\n",
    "trainGenParams = {\n",
    "    'path' : path,\n",
    "    'which_data': 'train',\n",
    "    'n_classes' : 1,\n",
    "    'batch_size': batch_size,\n",
    "    'target_size': (256,256)\n",
    "}\n",
    "\n",
    "validateGenParams = {\n",
    "    'path' : path,\n",
    "    'which_data': 'validate',\n",
    "    'n_classes' : 1,\n",
    "    'batch_size': batch_size,\n",
    "    'target_size': (256,256)\n",
    "}"
   ]
  },
  {
   "cell_type": "code",
   "execution_count": null,
   "metadata": {},
   "outputs": [],
   "source": [
    "# define the callbacks\n",
    "model_checkpoint = ModelCheckpoint('../../../model_checkpoints/unet/unet_reshaped_dropout_smaller.hdf5', monitor='loss',verbose=1, save_best_only=True)\n",
    "logger = CSVLogger('../../../model_checkpoints/unet/unet_reshaped_dropout_smaller.csv')\n",
    "# define the generators\n",
    "trainGenerator = generateData(trainGenParams)\n",
    "validateGenerator = generateData(validateGenParams)\n",
    "\n",
    "model = unet(params)"
   ]
  },
  {
   "cell_type": "code",
   "execution_count": null,
   "metadata": {},
   "outputs": [],
   "source": [
    "output = model.fit_generator(generator = trainGenerator,\n",
    "                    validation_data = validateGenerator,\n",
    "                    steps_per_epoch = steps_per_epoch,\n",
    "                    validation_steps = validation_steps,\n",
    "                    epochs = epochs,\n",
    "                    use_multiprocessing = True,\n",
    "                    callbacks =[model_checkpoint, logger])"
   ]
  },
  {
   "cell_type": "markdown",
   "metadata": {},
   "source": [
    "### Train a multi-class model"
   ]
  },
  {
   "cell_type": "code",
   "execution_count": null,
   "metadata": {},
   "outputs": [],
   "source": [
    "classMap = {\n",
    "    'maize' : 1,\n",
    "    'maizevariety': 1,\n",
    "    'wheat': 2,\n",
    "    'mungbean':3\n",
    "}\n",
    "\n",
    "batch_size = 10\n",
    "\n",
    "trainGenParams = {\n",
    "    'path' : path,\n",
    "    'classMap' : classMap,\n",
    "    'epochs' : 5,\n",
    "    'n_classes': 4,\n",
    "    'shape':(256,256),\n",
    "}"
   ]
  }
 ],
 "metadata": {
  "kernelspec": {
   "display_name": "Python 3",
   "language": "python",
   "name": "python3"
  },
  "language_info": {
   "codemirror_mode": {
    "name": "ipython",
    "version": 3
   },
   "file_extension": ".py",
   "mimetype": "text/x-python",
   "name": "python",
   "nbconvert_exporter": "python",
   "pygments_lexer": "ipython3",
   "version": "3.6.5"
  }
 },
 "nbformat": 4,
 "nbformat_minor": 2
}
