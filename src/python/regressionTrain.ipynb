{
 "cells": [
  {
   "cell_type": "code",
   "execution_count": 1,
   "metadata": {},
   "outputs": [
    {
     "name": "stderr",
     "output_type": "stream",
     "text": [
      "/home/ubuntu/anaconda3/lib/python3.6/site-packages/h5py/__init__.py:36: FutureWarning: Conversion of the second argument of issubdtype from `float` to `np.floating` is deprecated. In future, it will be treated as `np.float64 == np.dtype(float).type`.\n",
      "  from ._conv import register_converters as _register_converters\n",
      "Using TensorFlow backend.\n"
     ]
    }
   ],
   "source": [
    "from modelTrainer import ModelTrainer\n",
    "from metrics import RMSE\n",
    "from keras.losses import mean_absolute_error, mean_absolute_percentage_error"
   ]
  },
  {
   "cell_type": "markdown",
   "metadata": {},
   "source": [
    "### Common Variables"
   ]
  },
  {
   "cell_type": "code",
   "execution_count": 2,
   "metadata": {},
   "outputs": [],
   "source": [
    "# path to data on aws\n",
    "u = \"/home/ubuntu/project/\"\n",
    "data_path = u + \"data/groundcover2016/\"\n",
    "model_path = u + \"model_checkpoints/unet\"\n",
    "results_path = u + \"results\"\n",
    "# create model trainer\n",
    "trainer = ModelTrainer(data_path,results_path,model_path)\n",
    "trainer.setRegression()\n",
    "trainer.changeMetrics([RMSE,mean_absolute_error])\n",
    "multiclassMap = {'maize': 1,\n",
    "                 'maizevariety' : 1,\n",
    "                 'wheat' : 2,\n",
    "                 'mungbean' : 3}"
   ]
  },
  {
   "cell_type": "markdown",
   "metadata": {},
   "source": [
    "### Evaluate how the segmentation model performs"
   ]
  },
  {
   "cell_type": "code",
   "execution_count": 6,
   "metadata": {},
   "outputs": [
    {
     "name": "stdout",
     "output_type": "stream",
     "text": [
      "----------Model Parameters----------\n",
      "Initial Conv. Depth : 4\n",
      "Number of Classes   : 2\n",
      "Dropout             : 0\n",
      "Activation Function : Relu\n",
      "Input Shape         : [256, 256, 3]\n",
      "Batch Size          : 256\n",
      "--------Optimizer Parameters--------\n",
      "Learning Rate : <tf.Variable 'SGD_7/lr:0' shape=() dtype=float32_ref>\n",
      "Momentum      : <tf.Variable 'SGD_7/momentum:0' shape=() dtype=float32_ref>\n",
      "Initial Decay : 0\n",
      "35/35 [==============================] - 86s 2s/step\n",
      "val_loss : 0.005103530322334596\n",
      "val_RMSE : 0.07050939212952341\n",
      "val_mean_absolute_error : 0.03912899808159896\n"
     ]
    }
   ],
   "source": [
    "trainer.setOldModel('maize4')\n",
    "trainer.changeBatchSize(256)\n",
    "trainer.setClassMap({'maize': 1})\n",
    "trainer.evaluate(validationOnly = True)"
   ]
  },
  {
   "cell_type": "code",
   "execution_count": 3,
   "metadata": {},
   "outputs": [
    {
     "name": "stdout",
     "output_type": "stream",
     "text": [
      "----------Model Parameters----------\n",
      "Initial Conv. Depth : 8\n",
      "Number of Classes   : 2\n",
      "Dropout             : 0\n",
      "Activation Function : Relu\n",
      "Input Shape         : [256, 256, 3]\n",
      "Batch Size          : 128\n",
      "--------Optimizer Parameters--------\n",
      "Learning Rate : <tf.Variable 'SGD_1/lr:0' shape=() dtype=float32_ref>\n",
      "Momentum      : <tf.Variable 'SGD_1/momentum:0' shape=() dtype=float32_ref>\n",
      "Initial Decay : 0\n",
      "69/69 [==============================] - 92s 1s/step\n",
      "val_loss : 0.003773735815902119\n",
      "val_RMSE : 0.05942158239043277\n",
      "val_mean_absolute_error : 0.03140224675661412\n"
     ]
    }
   ],
   "source": [
    "trainer.setOldModel('maize8')\n",
    "trainer.changeBatchSize(128)\n",
    "trainer.setClassMap({'maize': 1})\n",
    "trainer.evaluate(validationOnly = True)"
   ]
  },
  {
   "cell_type": "code",
   "execution_count": 4,
   "metadata": {},
   "outputs": [
    {
     "name": "stdout",
     "output_type": "stream",
     "text": [
      "----------Model Parameters----------\n",
      "Initial Conv. Depth : 16\n",
      "Number of Classes   : 2\n",
      "Dropout             : 0\n",
      "Activation Function : Relu\n",
      "Input Shape         : [256, 256, 3]\n",
      "Batch Size          : 64\n",
      "--------Optimizer Parameters--------\n",
      "Learning Rate : <tf.Variable 'SGD_3/lr:0' shape=() dtype=float32_ref>\n",
      "Momentum      : <tf.Variable 'SGD_3/momentum:0' shape=() dtype=float32_ref>\n",
      "Initial Decay : 0\n",
      "138/138 [==============================] - 92s 669ms/step\n",
      "val_loss : 0.0040040917650701995\n",
      "val_RMSE : 0.06048679458436327\n",
      "val_mean_absolute_error : 0.03127371513055287\n"
     ]
    }
   ],
   "source": [
    "trainer.setOldModel('maize16')\n",
    "trainer.changeBatchSize(64)\n",
    "trainer.setClassMap({'maize': 1})\n",
    "trainer.evaluate(validationOnly = True)"
   ]
  },
  {
   "cell_type": "code",
   "execution_count": 5,
   "metadata": {},
   "outputs": [
    {
     "name": "stdout",
     "output_type": "stream",
     "text": [
      "----------Model Parameters----------\n",
      "Initial Conv. Depth : 32\n",
      "Number of Classes   : 2\n",
      "Dropout             : 0\n",
      "Activation Function : Relu\n",
      "Input Shape         : [256, 256, 3]\n",
      "Batch Size          : 32\n",
      "--------Optimizer Parameters--------\n",
      "Learning Rate : <tf.Variable 'SGD_5/lr:0' shape=() dtype=float32_ref>\n",
      "Momentum      : <tf.Variable 'SGD_5/momentum:0' shape=() dtype=float32_ref>\n",
      "Initial Decay : 0\n",
      "277/277 [==============================] - 144s 521ms/step\n",
      "val_loss : 0.004104871725741714\n",
      "val_RMSE : 0.0599310751600924\n",
      "val_mean_absolute_error : 0.030652128381903423\n"
     ]
    }
   ],
   "source": [
    "trainer.setOldModel('maize32')\n",
    "trainer.changeBatchSize(32)\n",
    "trainer.setClassName('maize')\n",
    "trainer.evaluate(validationOnly = True)"
   ]
  },
  {
   "cell_type": "markdown",
   "metadata": {},
   "source": [
    "### Convert Single class model and do more training"
   ]
  },
  {
   "cell_type": "code",
   "execution_count": 3,
   "metadata": {},
   "outputs": [
    {
     "name": "stdout",
     "output_type": "stream",
     "text": [
      "----------Model Parameters----------\n",
      "Initial Conv. Depth : 8\n",
      "Number of Classes   : 2\n",
      "Dropout             : 0\n",
      "Activation Function : Relu\n",
      "Input Shape         : [256, 256, 3]\n",
      "Batch Size          : 128\n",
      "--------Optimizer Parameters--------\n",
      "Learning Rate : <tf.Variable 'SGD_1/lr:0' shape=() dtype=float32_ref>\n",
      "Momentum      : <tf.Variable 'SGD_1/momentum:0' shape=() dtype=float32_ref>\n",
      "Initial Decay : 0\n",
      "Epoch 1/1\n",
      "556/556 [==============================] - 1045s 2s/step - loss: 0.0047 - RMSE: 0.0677 - mean_absolute_error: 0.0353 - val_loss: 0.0038 - val_RMSE: 0.0596 - val_mean_absolute_error: 0.0315\n",
      "\n",
      "Epoch 00001: saving model to /home/ubuntu/project/model_checkpoints/unet/maize8Regression.hdf5\n"
     ]
    }
   ],
   "source": [
    "trainer.setOldModel('maize8')\n",
    "trainer.changeEpochs(1)\n",
    "trainer.changeDropout(0)\n",
    "trainer.changeBatchSize(128)\n",
    "trainer.setOptimizerParams(1.0*(10**-8),0.9,0)\n",
    "trainer.setClassMap({'maize': 1})\n",
    "trainer.setSaveName('maize8Regression')\n",
    "trainer.changeBatchLogInterval(5)\n",
    "trainer.train()"
   ]
  },
  {
   "cell_type": "markdown",
   "metadata": {},
   "source": [
    "## Evaluate Multi-Class model performance "
   ]
  },
  {
   "cell_type": "code",
   "execution_count": 13,
   "metadata": {},
   "outputs": [
    {
     "name": "stdout",
     "output_type": "stream",
     "text": [
      "----------Model Parameters----------\n",
      "Initial Conv. Depth : 16\n",
      "Number of Classes   : 4\n",
      "Dropout             : 0\n",
      "Activation Function : Relu\n",
      "Input Shape         : [256, 256, 3]\n",
      "Batch Size          : 100\n",
      "--------Optimizer Parameters--------\n",
      "Learning Rate : <tf.Variable 'SGD_28/lr:0' shape=() dtype=float32_ref>\n",
      "Momentum      : <tf.Variable 'SGD_28/momentum:0' shape=() dtype=float32_ref>\n",
      "Initial Decay : 0\n",
      "411/411 [==============================] - 428s 1s/step\n",
      "val_loss : 0.023258513705283767\n",
      "val_RMSE : 0.15211614264841497\n",
      "val_mean_absolute_error : 0.09250050244757729\n"
     ]
    }
   ],
   "source": [
    "trainer.setOldModel('multiclass16')\n",
    "trainer.changeBatchSize(100)\n",
    "trainer.setClassMap(multiclassMap)\n",
    "trainer.evaluate(validationOnly = True)"
   ]
  },
  {
   "cell_type": "code",
   "execution_count": 12,
   "metadata": {},
   "outputs": [
    {
     "name": "stdout",
     "output_type": "stream",
     "text": [
      "----------Model Parameters----------\n",
      "Initial Conv. Depth : 32\n",
      "Number of Classes   : 4\n",
      "Dropout             : 0\n",
      "Activation Function : Relu\n",
      "Input Shape         : [256, 256, 3]\n",
      "Batch Size          : 64\n",
      "--------Optimizer Parameters--------\n",
      "Learning Rate : <tf.Variable 'SGD_26/lr:0' shape=() dtype=float32_ref>\n",
      "Momentum      : <tf.Variable 'SGD_26/momentum:0' shape=() dtype=float32_ref>\n",
      "Initial Decay : 0\n",
      "643/643 [==============================] - 673s 1s/step\n",
      "val_loss : 0.013744171251851376\n",
      "val_RMSE : 0.11656017995455402\n",
      "val_mean_absolute_error : 0.06717106308295605\n"
     ]
    }
   ],
   "source": [
    "trainer.setOldModel('multiclass32')\n",
    "trainer.changeBatchSize(64)\n",
    "trainer.setClassMap(multiclassMap)\n",
    "trainer.evaluate(validationOnly = True)"
   ]
  },
  {
   "cell_type": "code",
   "execution_count": 14,
   "metadata": {},
   "outputs": [
    {
     "name": "stdout",
     "output_type": "stream",
     "text": [
      "----------Model Parameters----------\n",
      "Initial Conv. Depth : 64\n",
      "Number of Classes   : 4\n",
      "Dropout             : 0\n",
      "Activation Function : Relu\n",
      "Input Shape         : [256, 256, 3]\n",
      "Batch Size          : 64\n",
      "--------Optimizer Parameters--------\n",
      "Learning Rate : <tf.Variable 'SGD_30/lr:0' shape=() dtype=float32_ref>\n",
      "Momentum      : <tf.Variable 'SGD_30/momentum:0' shape=() dtype=float32_ref>\n",
      "Initial Decay : 0\n",
      "643/643 [==============================] - 1398s 2s/step\n",
      "val_loss : 0.004274325026887213\n",
      "val_RMSE : 0.06429487211893357\n",
      "val_mean_absolute_error : 0.03071132387160606\n"
     ]
    }
   ],
   "source": [
    "trainer.setOldModel(\"unet_multiclass\")\n",
    "trainer.changeBatchSize(64)\n",
    "trainer.setClassMap(multiclassMap)\n",
    "trainer.evaluate(validationOnly = True)"
   ]
  },
  {
   "cell_type": "code",
   "execution_count": 3,
   "metadata": {},
   "outputs": [
    {
     "name": "stdout",
     "output_type": "stream",
     "text": [
      "----------Model Parameters----------\n",
      "Initial Conv. Depth : 64\n",
      "Number of Classes   : 4\n",
      "Dropout             : 0\n",
      "Activation Function : Relu\n",
      "Input Shape         : [256, 256, 3]\n",
      "Batch Size          : 12\n",
      "--------Optimizer Parameters--------\n",
      "Learning Rate : <tf.Variable 'SGD_1/lr:0' shape=() dtype=float32_ref>\n",
      "Momentum      : <tf.Variable 'SGD_1/momentum:0' shape=() dtype=float32_ref>\n",
      "Initial Decay : 0\n",
      "Epoch 1/1\n",
      "  989/27346 [>.............................] - ETA: 8:29:16 - loss: 0.0040 - RMSE: 0.0585 - mean_absolute_error: 0.02881000\n",
      " 1989/27346 [=>............................] - ETA: 8:08:55 - loss: 0.0043 - RMSE: 0.0601 - mean_absolute_error: 0.02972000\n",
      " 2989/27346 [==>...........................] - ETA: 7:49:18 - loss: 0.0044 - RMSE: 0.0611 - mean_absolute_error: 0.03053000\n",
      " 3989/27346 [===>..........................] - ETA: 7:29:54 - loss: 0.0044 - RMSE: 0.0609 - mean_absolute_error: 0.03024000\n",
      " 4989/27346 [====>.........................] - ETA: 7:10:34 - loss: 0.0044 - RMSE: 0.0614 - mean_absolute_error: 0.03045000\n",
      " 5989/27346 [=====>........................] - ETA: 6:51:16 - loss: 0.0044 - RMSE: 0.0612 - mean_absolute_error: 0.03046000\n",
      " 6989/27346 [======>.......................] - ETA: 6:31:58 - loss: 0.0044 - RMSE: 0.0611 - mean_absolute_error: 0.03047000\n",
      " 7989/27346 [=======>......................] - ETA: 6:12:40 - loss: 0.0044 - RMSE: 0.0611 - mean_absolute_error: 0.03058000\n",
      " 8989/27346 [========>.....................] - ETA: 5:53:23 - loss: 0.0043 - RMSE: 0.0610 - mean_absolute_error: 0.03059000\n",
      " 9989/27346 [=========>....................] - ETA: 5:34:07 - loss: 0.0043 - RMSE: 0.0610 - mean_absolute_error: 0.030510000\n",
      "10989/27346 [===========>..................] - ETA: 5:14:50 - loss: 0.0043 - RMSE: 0.0609 - mean_absolute_error: 0.030411000\n",
      "11989/27346 [============>.................] - ETA: 4:55:35 - loss: 0.0043 - RMSE: 0.0606 - mean_absolute_error: 0.030412000\n",
      "12989/27346 [=============>................] - ETA: 4:36:19 - loss: 0.0043 - RMSE: 0.0604 - mean_absolute_error: 0.030313000\n",
      "13989/27346 [==============>...............] - ETA: 4:17:04 - loss: 0.0042 - RMSE: 0.0602 - mean_absolute_error: 0.030114000\n",
      "14989/27346 [===============>..............] - ETA: 3:57:49 - loss: 0.0042 - RMSE: 0.0603 - mean_absolute_error: 0.030215000\n",
      "15989/27346 [================>.............] - ETA: 3:38:34 - loss: 0.0043 - RMSE: 0.0604 - mean_absolute_error: 0.030316000\n",
      "16989/27346 [=================>............] - ETA: 3:19:18 - loss: 0.0043 - RMSE: 0.0606 - mean_absolute_error: 0.030417000\n",
      "17989/27346 [==================>...........] - ETA: 3:00:04 - loss: 0.0043 - RMSE: 0.0607 - mean_absolute_error: 0.030418000\n",
      "18989/27346 [===================>..........] - ETA: 2:40:49 - loss: 0.0043 - RMSE: 0.0608 - mean_absolute_error: 0.030519000\n",
      "19989/27346 [====================>.........] - ETA: 2:21:34 - loss: 0.0043 - RMSE: 0.0609 - mean_absolute_error: 0.030620000\n",
      "20989/27346 [======================>.......] - ETA: 2:02:19 - loss: 0.0043 - RMSE: 0.0609 - mean_absolute_error: 0.030621000\n",
      "21989/27346 [=======================>......] - ETA: 1:43:05 - loss: 0.0043 - RMSE: 0.0609 - mean_absolute_error: 0.030622000\n",
      "22989/27346 [========================>.....] - ETA: 1:23:50 - loss: 0.0043 - RMSE: 0.0609 - mean_absolute_error: 0.030623000\n",
      "23989/27346 [=========================>....] - ETA: 1:04:35 - loss: 0.0043 - RMSE: 0.0610 - mean_absolute_error: 0.030724000\n",
      "24989/27346 [==========================>...] - ETA: 45:21 - loss: 0.0043 - RMSE: 0.0611 - mean_absolute_error: 0.030825000\n",
      "25989/27346 [===========================>..] - ETA: 26:06 - loss: 0.0044 - RMSE: 0.0611 - mean_absolute_error: 0.030826000\n",
      "26989/27346 [============================>.] - ETA: 6:52 - loss: 0.0043 - RMSE: 0.0610 - mean_absolute_error: 0.030827000\n",
      "27345/27346 [============================>.] - ETA: 1s - loss: 0.0043 - RMSE: 0.0610 - mean_absolute_error: 0.03081000\n",
      "2000\n",
      "3000\n",
      "27346/27346 [==============================] - 32964s 1s/step - loss: 0.0043 - RMSE: 0.0610 - mean_absolute_error: 0.0308 - val_loss: 0.0043 - val_RMSE: 0.0613 - val_mean_absolute_error: 0.0310\n",
      "\n",
      "Epoch 00001: saving model to /home/ubuntu/project/model_checkpoints/unet/multiclass64Regression.hdf5\n"
     ]
    }
   ],
   "source": [
    "trainer.setOldModel('unet_multiclass')\n",
    "trainer.changeEpochs(1)\n",
    "trainer.changeDropout(0)\n",
    "trainer.changeBatchSize(12)\n",
    "trainer.setOptimizerParams(1.0*(10**-8),0.9,0)\n",
    "trainer.setClassMap(multiclassMap)\n",
    "trainer.setSaveName('multiclass64Regression')\n",
    "trainer.changeBatchLogInterval(5)\n",
    "trainer.train()"
   ]
  },
  {
   "cell_type": "markdown",
   "metadata": {},
   "source": [
    "### Try and train a fresh model"
   ]
  },
  {
   "cell_type": "code",
   "execution_count": 12,
   "metadata": {},
   "outputs": [
    {
     "name": "stdout",
     "output_type": "stream",
     "text": [
      "----------Model Parameters----------\n",
      "Initial Conv. Depth : 32\n",
      "Number of Classes   : 2\n",
      "Dropout             : 0\n",
      "Activation Function : Relu\n",
      "Input Shape         : (256, 256, 3)\n",
      "Batch Size          : 20\n",
      "--------Optimizer Parameters--------\n",
      "Learning Rate : <tf.Variable 'SGD_13/lr:0' shape=() dtype=float32_ref>\n",
      "Momentum      : <tf.Variable 'SGD_13/momentum:0' shape=() dtype=float32_ref>\n",
      "Initial Decay : 1e-10\n",
      "Epoch 1/2\n",
      " 989/3560 [=======>......................] - ETA: 31:51 - loss: 0.0824 - RMSE: 0.2788 - mean_absolute_error: 0.17481000\n",
      "1989/3560 [===============>..............] - ETA: 19:22 - loss: 0.0783 - RMSE: 0.2707 - mean_absolute_error: 0.16932000\n",
      "2989/3560 [========================>.....] - ETA: 7:02 - loss: 0.0778 - RMSE: 0.2698 - mean_absolute_error: 0.16913000\n",
      "3560/3560 [==============================] - 2756s 774ms/step - loss: 0.0762 - RMSE: 0.2667 - mean_absolute_error: 0.1679 - val_loss: 0.0582 - val_RMSE: 0.2327 - val_mean_absolute_error: 0.1481\n",
      "\n",
      "Epoch 00001: saving model to /home/ubuntu/project/model_checkpoints/unet/maize32FullRegression.hdf5\n",
      "Epoch 2/2\n",
      " 429/3560 [==>...........................] - ETA: 38:26 - loss: 0.0738 - RMSE: 0.2639 - mean_absolute_error: 0.16734000\n",
      "1429/3560 [===========>..................] - ETA: 26:10 - loss: 0.0686 - RMSE: 0.2531 - mean_absolute_error: 0.16195000\n",
      "2429/3560 [===================>..........] - ETA: 13:53 - loss: 0.0696 - RMSE: 0.2546 - mean_absolute_error: 0.16526000\n",
      "3429/3560 [===========================>..] - ETA: 1:36 - loss: 0.0710 - RMSE: 0.2575 - mean_absolute_error: 0.16897000\n",
      "3560/3560 [==============================] - 2749s 772ms/step - loss: 0.0707 - RMSE: 0.2569 - mean_absolute_error: 0.1687 - val_loss: 0.0535 - val_RMSE: 0.2228 - val_mean_absolute_error: 0.1497\n",
      "\n",
      "Epoch 00002: saving model to /home/ubuntu/project/model_checkpoints/unet/maize32FullRegression.hdf5\n"
     ]
    }
   ],
   "source": [
    "m = ModelTrainer(data_path,results_path,model_path)\n",
    "m.setRegression()\n",
    "m.changeMetrics([RMSE,mean_absolute_error])\n",
    "m.changeBatchSize(20)\n",
    "m.changeEpochs(2)\n",
    "m.setClassMap({'maize': 1})\n",
    "m.setWeightInitializer(\"he_normal\")\n",
    "m.changeDropout(0)\n",
    "m.changeConvolutionalDepth(32)\n",
    "m.changeBatchLogInterval(5)\n",
    "m.setOptimizerParams(lr = 1.0*(10**-6), momentum = 0.9, decay = 1.0*(10**-10))\n",
    "m.setSaveName(\"maize32FullRegression\")\n",
    "m.train()"
   ]
  },
  {
   "cell_type": "code",
   "execution_count": 22,
   "metadata": {},
   "outputs": [
    {
     "data": {
      "text/plain": [
       "0.12698393599995939"
      ]
     },
     "execution_count": 22,
     "metadata": {},
     "output_type": "execute_result"
    }
   ],
   "source": [
    "m = ModelInferencer(model_path + \"/multiclass32.hdf5\",data_path = data_path)\n",
    "m.setClassMap(multiclassMap)\n",
    "m.setBatchSize(15)\n",
    "m.timePrediction(100)"
   ]
  }
 ],
 "metadata": {
  "kernelspec": {
   "display_name": "Python [default]",
   "language": "python",
   "name": "python3"
  },
  "language_info": {
   "codemirror_mode": {
    "name": "ipython",
    "version": 3
   },
   "file_extension": ".py",
   "mimetype": "text/x-python",
   "name": "python",
   "nbconvert_exporter": "python",
   "pygments_lexer": "ipython3",
   "version": "3.6.4"
  }
 },
 "nbformat": 4,
 "nbformat_minor": 2
}
