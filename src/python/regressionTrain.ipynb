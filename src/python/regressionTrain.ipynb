{
 "cells": [
  {
   "cell_type": "code",
   "execution_count": 1,
   "metadata": {},
   "outputs": [
    {
     "name": "stderr",
     "output_type": "stream",
     "text": [
      "/home/ubuntu/anaconda3/lib/python3.6/site-packages/h5py/__init__.py:36: FutureWarning: Conversion of the second argument of issubdtype from `float` to `np.floating` is deprecated. In future, it will be treated as `np.float64 == np.dtype(float).type`.\n",
      "  from ._conv import register_converters as _register_converters\n",
      "Using TensorFlow backend.\n"
     ]
    }
   ],
   "source": [
    "import sys\n",
    "sys.path.append(\"..\") # Adds higher directory to python modules path.\n",
    "from notebookFunctions import plotEpochAccuracyAndLoss, plotBatchAccuracyAndLoss, dirSize\n",
    "from callbacks import WriteBatchResultsToCSV\n",
    "from keras.callbacks import ModelCheckpoint\n",
    "from generators import getBatchGenerators\n",
    "from models import convertModel"
   ]
  },
  {
   "cell_type": "markdown",
   "metadata": {},
   "source": [
    "### Common Variables"
   ]
  },
  {
   "cell_type": "code",
   "execution_count": 2,
   "metadata": {},
   "outputs": [],
   "source": [
    "# path to data on aws\n",
    "data_path = \"/home/ubuntu/project/data/groundcover2016/\"\n",
    "model_path = \"/home/ubuntu/project/model_checkpoints/\"\n",
    "\n",
    "dirs = [\"maize\",\"maizevariety\",\"mungbean\",\"wheat\"]\n",
    "\n",
    "# get length of the training and validation sets\n",
    "maize_train_size = dirSize(data_path + \"train\",\"maize\")\n",
    "maize_validate_size = dirSize(data_path + \"validate\",\"maize\")\n",
    "train_size = dirSize(data_path + \"train\",dirs)\n",
    "validate_size = dirSize(data_path + \"validate\",dirs)\n",
    "\n",
    "shape = (256,256)\n",
    "input_shape = (256,256,3)"
   ]
  },
  {
   "cell_type": "markdown",
   "metadata": {},
   "source": [
    "### Convert Single class model and do more training"
   ]
  },
  {
   "cell_type": "code",
   "execution_count": 3,
   "metadata": {},
   "outputs": [
    {
     "name": "stdout",
     "output_type": "stream",
     "text": [
      "AAAA\n"
     ]
    }
   ],
   "source": [
    "# variables\n",
    "epochs = 5\n",
    "batch_size = 256\n",
    "steps_per_epoch = round(maize_train_size/batch_size)\n",
    "validation_steps = round(maize_validate_size/batch_size)\n",
    "\n",
    "oldModel = \"../../../model_checkpoints/unet/small_maize_model.hdf5\"\n",
    "\n",
    "modelParams = {\n",
    "    'n_classes' : 2,\n",
    "    'dropout' : 0,\n",
    "    'conv_depth' : 4,\n",
    "    'input_shape' : (256,256,3)\n",
    "}\n",
    "\n",
    "sgdParams = {\n",
    "    'lr' : 1.0*(10**-7),\n",
    "    'weight_decay' : 1.0*(10**-10),\n",
    "    'momentum' : 0.9\n",
    "}\n",
    "\n",
    "model = convertModel(oldModel,modelParams,sgdParams,'regression')\n",
    "\n",
    "# get batch generators\n",
    "\n",
    "trainGenerator,validateGenerator = getBatchGenerators(batch_size,data_path,shape,className = \"maize\",networkType = \"regression\")\n",
    "\n",
    "# define callbacks \n",
    "model_checkpoint = ModelCheckpoint(model_path + 'unet/small_maize_regression_model.hdf5', monitor='loss',verbose=1, save_best_only=True)\n",
    "logger = WriteBatchResultsToCSV(model_path + \"unet/small_singleclass_regression_batch.csv\",model_path + \"unet/small_singleclass_regression_epoch.csv\",5)"
   ]
  },
  {
   "cell_type": "code",
   "execution_count": null,
   "metadata": {},
   "outputs": [
    {
     "name": "stdout",
     "output_type": "stream",
     "text": [
      "Epoch 1/5\n",
      "125/278 [============>.................] - ETA: 7:08 - loss: 2144686843.9040 - acc: 0.8418"
     ]
    }
   ],
   "source": [
    "# fit the model\n",
    "model.fit_generator(generator = trainGenerator,\n",
    "                    validation_data = validateGenerator,\n",
    "                    steps_per_epoch = steps_per_epoch,\n",
    "                    validation_steps = validation_steps,\n",
    "                    epochs = epochs,\n",
    "                    use_multiprocessing = True,\n",
    "                    callbacks =[model_checkpoint, logger])"
   ]
  },
  {
   "cell_type": "code",
   "execution_count": null,
   "metadata": {},
   "outputs": [],
   "source": []
  }
 ],
 "metadata": {
  "kernelspec": {
   "display_name": "Python [default]",
   "language": "python",
   "name": "python3"
  },
  "language_info": {
   "codemirror_mode": {
    "name": "ipython",
    "version": 3
   },
   "file_extension": ".py",
   "mimetype": "text/x-python",
   "name": "python",
   "nbconvert_exporter": "python",
   "pygments_lexer": "ipython3",
   "version": "3.6.4"
  }
 },
 "nbformat": 4,
 "nbformat_minor": 2
}
