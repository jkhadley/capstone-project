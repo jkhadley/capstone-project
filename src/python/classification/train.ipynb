{
 "cells": [
  {
   "cell_type": "markdown",
   "metadata": {},
   "source": [
    "### Import functions and Libraries"
   ]
  },
  {
   "cell_type": "code",
   "execution_count": null,
   "metadata": {},
   "outputs": [],
   "source": [
    "from keras.preprocessing.image import ImageDataGenerator\n",
    "from models import *"
   ]
  },
  {
   "cell_type": "markdown",
   "metadata": {},
   "source": [
    "### Define Parameters, Generators, and Callbacks for Models"
   ]
  },
  {
   "cell_type": "code",
   "execution_count": null,
   "metadata": {},
   "outputs": [],
   "source": [
    "path = \"/home/ubuntu/project/\"\"data/maize\" \n",
    "batch_size = 32\n",
    "# define model parameters\n",
    "params ={\n",
    "        'init_w' : 'he_normal',\n",
    "        'lr' : 0.01,\n",
    "        'activation' :  \"relu\",\n",
    "        'loss' : 'categorical_crossentropy',\n",
    "        'num_of_classes' : 4,\n",
    "        'output_activation' : \"softmax\",\n",
    "        'dropout' : 0.5,\n",
    "        'momentum': 0.7,\n",
    "        'fc_size': 32\n",
    "}\n",
    "model = alexNet(params)\n",
    "\n",
    "# define generators\n",
    "data_datagen = ImageDataGenerator()\n",
    "\n",
    "trainGenerator = data_datagen.flow_from_directory(path + \"data/maize/train\",batch_size=batch_size)\n",
    "validateGenerator = data_datagen.flow_from_directory(path + \"data/maize/train\",batch_size=batch_size)\n",
    "\n",
    "# define callbacks to log model and outputs\n",
    "model_checkpoint = ModelCheckpoint(path + '/model_checkpoints/classification/alexNet.hdf5', monitor='loss',verbose=1, save_best_only=True)\n",
    "logger = CSVLogger(path + \"/model_checkpoints/classification/alexNet.csv\")\n",
    "\n",
    "# define other misc. parameters\n",
    "steps_per_epoch = batch_size*50\n",
    "validation_steps = batch_size*10"
   ]
  },
  {
   "cell_type": "markdown",
   "metadata": {},
   "source": [
    "### Fit the Model"
   ]
  },
  {
   "cell_type": "code",
   "execution_count": null,
   "metadata": {},
   "outputs": [],
   "source": [
    "output = model.fit_generator(generator = trainGenerator,\n",
    "                    validation_data = validateGenerator,\n",
    "                    steps_per_epoch = steps_per_epoch,\n",
    "                    validation_steps = validation_steps,\n",
    "                    epochs = 5,\n",
    "                    use_multiprocessing = True,\n",
    "                    callbacks =[model_checkpoint, logger])"
   ]
  }
 ],
 "metadata": {
  "kernelspec": {
   "display_name": "Python 3",
   "language": "python",
   "name": "python3"
  },
  "language_info": {
   "codemirror_mode": {
    "name": "ipython",
    "version": 3
   },
   "file_extension": ".py",
   "mimetype": "text/x-python",
   "name": "python",
   "nbconvert_exporter": "python",
   "pygments_lexer": "ipython3",
   "version": "3.6.5"
  }
 },
 "nbformat": 4,
 "nbformat_minor": 2
}
